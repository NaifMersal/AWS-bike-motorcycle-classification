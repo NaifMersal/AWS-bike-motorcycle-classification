{
 "cells": [
  {
   "cell_type": "markdown",
   "metadata": {},
   "source": [
    "# Deploy and monitor a machine learning workflow for Image Classification"
   ]
  },
  {
   "cell_type": "markdown",
   "metadata": {},
   "source": [
    "## Setting up this notebook\n",
    "\n",
    "Notes about the instance size and kernel setup: this notebook has been tested on\n",
    "\n",
    "1. The `Python 3 (Data Science)` kernel\n",
    "2. The `ml.t3.medium` Sagemaker notebook instance\n",
    "\n",
    "## Data Staging\n",
    "\n",
    "We'll use a sample dataset called CIFAR to simulate the challenges Scones Unlimited are facing in Image Classification. In order to start working with CIFAR we'll need to:\n",
    "\n",
    "1. Extract the data from a hosting service\n",
    "2. Transform it into a usable shape and format\n",
    "3. Load it into a production system\n",
    "\n",
    "In other words, we're going to do some simple ETL!\n",
    "\n",
    "### 1. Extract the data from the hosting service\n",
    "\n",
    "In the cell below, define a function `extract_cifar_data` that extracts python version of the CIFAR-100 dataset. The CIFAR dataaset is open source and generously hosted by the University of Toronto at: https://www.cs.toronto.edu/~kriz/cifar-100-python.tar.gz "
   ]
  },
  {
   "cell_type": "code",
   "execution_count": 3,
   "metadata": {
    "tags": []
   },
   "outputs": [],
   "source": [
    "import requests\n",
    "\n",
    "def extract_cifar_data(url, filename=\"cifar.tar.gz\"):\n",
    "    \"\"\"A function for extracting the CIFAR-100 dataset and storing it as a gzipped file\n",
    "    \n",
    "    Arguments:\n",
    "    url      -- the URL where the dataset is hosted\n",
    "    filename -- the full path where the dataset will be written\n",
    "    \n",
    "    \"\"\"\n",
    "    \n",
    "    # Todo: request the data from the data url\n",
    "    # Hint: use `requests.get` method\n",
    "    r = requests.get(url)\n",
    "    with open(filename, \"wb\") as file_context:\n",
    "        file_context.write(r.content)\n",
    "    return"
   ]
  },
  {
   "cell_type": "markdown",
   "metadata": {},
   "source": [
    "Let's test it out! Run the following cell and check whether a new file `cifar.tar.gz` is created in the file explorer."
   ]
  },
  {
   "cell_type": "code",
   "execution_count": 4,
   "metadata": {
    "tags": []
   },
   "outputs": [],
   "source": [
    "extract_cifar_data(\"https://www.cs.toronto.edu/~kriz/cifar-100-python.tar.gz\")     "
   ]
  },
  {
   "cell_type": "markdown",
   "metadata": {},
   "source": [
    "### 2. Transform the data into a usable shape and format\n",
    "\n",
    "Clearly, distributing the data as a gzipped archive makes sense for the hosting service! It saves on bandwidth, storage, and it's a widely-used archive format. In fact, it's so widely used that the Python community ships a utility for working with them, `tarfile`, as part of its Standard Library. Execute the following cell to decompress your extracted dataset:"
   ]
  },
  {
   "cell_type": "code",
   "execution_count": 5,
   "metadata": {
    "tags": []
   },
   "outputs": [],
   "source": [
    "import tarfile\n",
    "\n",
    "with tarfile.open(\"cifar.tar.gz\", \"r:gz\") as tar:\n",
    "    tar.extractall()"
   ]
  },
  {
   "cell_type": "markdown",
   "metadata": {},
   "source": [
    "A new folder `cifar-100-python` should be created, containing `meta`, `test`, and `train` files. These files are `pickles` and the [CIFAR homepage](https://www.cs.toronto.edu/~kriz/cifar.html) provides a simple script that can be used to load them. We've adapted the script below for you to run:"
   ]
  },
  {
   "cell_type": "code",
   "execution_count": 2,
   "metadata": {
    "tags": []
   },
   "outputs": [],
   "source": [
    "import pickle\n",
    "\n",
    "with open(\"./cifar-100-python/meta\", \"rb\") as f:\n",
    "    dataset_meta = pickle.load(f, encoding='bytes')\n",
    "\n",
    "with open(\"./cifar-100-python/test\", \"rb\") as f:\n",
    "    dataset_test = pickle.load(f, encoding='bytes')\n",
    "\n",
    "with open(\"./cifar-100-python/train\", \"rb\") as f:\n",
    "    dataset_train = pickle.load(f, encoding='bytes')"
   ]
  },
  {
   "cell_type": "code",
   "execution_count": 3,
   "metadata": {
    "tags": []
   },
   "outputs": [
    {
     "data": {
      "text/plain": [
       "dict_keys([b'filenames', b'batch_label', b'fine_labels', b'coarse_labels', b'data'])"
      ]
     },
     "execution_count": 3,
     "metadata": {},
     "output_type": "execute_result"
    }
   ],
   "source": [
    "# Feel free to explore the datasets\n",
    "\n",
    "dataset_train.keys()"
   ]
  },
  {
   "cell_type": "markdown",
   "metadata": {},
   "source": [
    "As documented on the homepage, `b'data'` contains rows of 3073 unsigned integers, representing three channels (red, green, and blue) for one 32x32 pixel image per row."
   ]
  },
  {
   "cell_type": "code",
   "execution_count": 4,
   "metadata": {
    "tags": []
   },
   "outputs": [
    {
     "data": {
      "text/plain": [
       "3072"
      ]
     },
     "execution_count": 4,
     "metadata": {},
     "output_type": "execute_result"
    }
   ],
   "source": [
    "32*32*3"
   ]
  },
  {
   "cell_type": "markdown",
   "metadata": {},
   "source": [
    "For a simple gut-check, let's transform one of our images. Each 1024 items in a row is a channel (red, green, then blue). Each 32 items in the channel are a row in the 32x32 image. Using python, we can stack these channels into a 32x32x3 array, and save it as a PNG file:"
   ]
  },
  {
   "cell_type": "code",
   "execution_count": 5,
   "metadata": {
    "tags": []
   },
   "outputs": [],
   "source": [
    "import numpy as np\n",
    "\n",
    "# Each 1024 in a row is a channel (red, green, then blue)\n",
    "row = dataset_train[b'data'][0]\n",
    "red, green, blue = row[0:1024], row[1024:2048], row[2048:]\n",
    "\n",
    "# Each 32 items in the channel are a row in the 32x32 image\n",
    "red = red.reshape(32,32)\n",
    "green = green.reshape(32,32)\n",
    "blue = blue.reshape(32,32)\n",
    "\n",
    "# Combine the channels into a 32x32x3 image!\n",
    "combined = np.dstack((red,green,blue))"
   ]
  },
  {
   "cell_type": "markdown",
   "metadata": {},
   "source": [
    "For a more concise version, consider the following:"
   ]
  },
  {
   "cell_type": "code",
   "execution_count": 6,
   "metadata": {
    "tags": []
   },
   "outputs": [],
   "source": [
    "# All in one:\n",
    "test_image = np.dstack((\n",
    "    row[0:1024].reshape(32,32),\n",
    "    row[1024:2048].reshape(32,32),\n",
    "    row[2048:].reshape(32,32)\n",
    "))"
   ]
  },
  {
   "cell_type": "code",
   "execution_count": 7,
   "metadata": {
    "tags": []
   },
   "outputs": [
    {
     "data": {
      "image/png": "[encoded data removed]",
      "text/plain": [
       "<Figure size 640x480 with 1 Axes>"
      ]
     },
     "metadata": {},
     "output_type": "display_data"
    }
   ],
   "source": [
    "%matplotlib inline\n",
    "import matplotlib.pyplot as plt\n",
    "plt.imshow(test_image);"
   ]
  },
  {
   "cell_type": "markdown",
   "metadata": {},
   "source": [
    "Looks like a cow! Let's check the label. `dataset_meta` contains label names in order, and `dataset_train` has a list of labels for each row."
   ]
  },
  {
   "cell_type": "code",
   "execution_count": 8,
   "metadata": {
    "tags": []
   },
   "outputs": [
    {
     "data": {
      "text/plain": [
       "19"
      ]
     },
     "execution_count": 8,
     "metadata": {},
     "output_type": "execute_result"
    }
   ],
   "source": [
    "dataset_train[b'fine_labels'][0]"
   ]
  },
  {
   "cell_type": "markdown",
   "metadata": {},
   "source": [
    "Our image has a label of `19`, so let's see what the 19th item is in the list of label names."
   ]
  },
  {
   "cell_type": "code",
   "execution_count": 9,
   "metadata": {
    "tags": []
   },
   "outputs": [
    {
     "name": "stdout",
     "output_type": "stream",
     "text": [
      "b'cattle'\n"
     ]
    }
   ],
   "source": [
    "print(dataset_meta[b'fine_label_names'][19])"
   ]
  },
  {
   "cell_type": "markdown",
   "metadata": {},
   "source": [
    "Ok! 'cattle' sounds about right. By the way, using the previous two lines we can do:"
   ]
  },
  {
   "cell_type": "code",
   "execution_count": 10,
   "metadata": {
    "tags": []
   },
   "outputs": [
    {
     "name": "stdout",
     "output_type": "stream",
     "text": [
      "b'cattle'\n"
     ]
    }
   ],
   "source": [
    "n = 0\n",
    "print(dataset_meta[b'fine_label_names'][dataset_train[b'fine_labels'][n]])"
   ]
  },
  {
   "cell_type": "markdown",
   "metadata": {},
   "source": [
    "Now we know how to check labels, is there a way that we can also check file names? `dataset_train` also contains a `b'filenames'` key. Let's see what we have here:"
   ]
  },
  {
   "cell_type": "code",
   "execution_count": 11,
   "metadata": {
    "tags": []
   },
   "outputs": [
    {
     "name": "stdout",
     "output_type": "stream",
     "text": [
      "b'bos_taurus_s_000507.png'\n"
     ]
    }
   ],
   "source": [
    "print(dataset_train[b'filenames'][0])"
   ]
  },
  {
   "cell_type": "markdown",
   "metadata": {},
   "source": [
    "\"Taurus\" is the name of a subspecies of cattle, so this looks like a pretty reasonable filename. To save an image we can also do:"
   ]
  },
  {
   "cell_type": "code",
   "execution_count": 12,
   "metadata": {
    "tags": []
   },
   "outputs": [],
   "source": [
    "plt.imsave(\"file.png\", test_image)"
   ]
  },
  {
   "cell_type": "markdown",
   "metadata": {},
   "source": [
    "Your new PNG file should now appear in the file explorer -- go ahead and pop it open to see!\n",
    "\n",
    "Now that you know how to reshape the images, save them as files, and capture their filenames and labels, let's just capture all the bicycles and motorcycles and save them. Scones Unlimited can use a model that tells these apart to route delivery drivers automatically.\n",
    "\n",
    "In the following cell, identify the label numbers for Bicycles and Motorcycles:"
   ]
  },
  {
   "cell_type": "code",
   "execution_count": 13,
   "metadata": {
    "tags": []
   },
   "outputs": [
    {
     "data": {
      "text/plain": [
       "[b'apple',\n",
       " b'aquarium_fish',\n",
       " b'baby',\n",
       " b'bear',\n",
       " b'beaver',\n",
       " b'bed',\n",
       " b'bee',\n",
       " b'beetle',\n",
       " b'bicycle',\n",
       " b'bottle',\n",
       " b'bowl',\n",
       " b'boy',\n",
       " b'bridge',\n",
       " b'bus',\n",
       " b'butterfly',\n",
       " b'camel',\n",
       " b'can',\n",
       " b'castle',\n",
       " b'caterpillar',\n",
       " b'cattle',\n",
       " b'chair',\n",
       " b'chimpanzee',\n",
       " b'clock',\n",
       " b'cloud',\n",
       " b'cockroach',\n",
       " b'couch',\n",
       " b'crab',\n",
       " b'crocodile',\n",
       " b'cup',\n",
       " b'dinosaur',\n",
       " b'dolphin',\n",
       " b'elephant',\n",
       " b'flatfish',\n",
       " b'forest',\n",
       " b'fox',\n",
       " b'girl',\n",
       " b'hamster',\n",
       " b'house',\n",
       " b'kangaroo',\n",
       " b'keyboard',\n",
       " b'lamp',\n",
       " b'lawn_mower',\n",
       " b'leopard',\n",
       " b'lion',\n",
       " b'lizard',\n",
       " b'lobster',\n",
       " b'man',\n",
       " b'maple_tree',\n",
       " b'motorcycle',\n",
       " b'mountain',\n",
       " b'mouse',\n",
       " b'mushroom',\n",
       " b'oak_tree',\n",
       " b'orange',\n",
       " b'orchid',\n",
       " b'otter',\n",
       " b'palm_tree',\n",
       " b'pear',\n",
       " b'pickup_truck',\n",
       " b'pine_tree',\n",
       " b'plain',\n",
       " b'plate',\n",
       " b'poppy',\n",
       " b'porcupine',\n",
       " b'possum',\n",
       " b'rabbit',\n",
       " b'raccoon',\n",
       " b'ray',\n",
       " b'road',\n",
       " b'rocket',\n",
       " b'rose',\n",
       " b'sea',\n",
       " b'seal',\n",
       " b'shark',\n",
       " b'shrew',\n",
       " b'skunk',\n",
       " b'skyscraper',\n",
       " b'snail',\n",
       " b'snake',\n",
       " b'spider',\n",
       " b'squirrel',\n",
       " b'streetcar',\n",
       " b'sunflower',\n",
       " b'sweet_pepper',\n",
       " b'table',\n",
       " b'tank',\n",
       " b'telephone',\n",
       " b'television',\n",
       " b'tiger',\n",
       " b'tractor',\n",
       " b'train',\n",
       " b'trout',\n",
       " b'tulip',\n",
       " b'turtle',\n",
       " b'wardrobe',\n",
       " b'whale',\n",
       " b'willow_tree',\n",
       " b'wolf',\n",
       " b'woman',\n",
       " b'worm']"
      ]
     },
     "execution_count": 13,
     "metadata": {},
     "output_type": "execute_result"
    }
   ],
   "source": [
    "dataset_meta[b'fine_label_names']"
   ]
  },
  {
   "cell_type": "code",
   "execution_count": 14,
   "metadata": {
    "tags": []
   },
   "outputs": [
    {
     "name": "stdout",
     "output_type": "stream",
     "text": [
      "8 48\n"
     ]
    }
   ],
   "source": [
    "import pandas as pd\n",
    "\n",
    "# Todo: Filter the dataset_train and dataset_meta objects to find the label numbers for Bicycle and Motorcycles\n",
    "\n",
    "bicycle_label=dataset_meta[b'fine_label_names'].index(b'bicycle')\n",
    "motorcycle_label=dataset_meta[b'fine_label_names'].index(b'motorcycle')\n",
    "print(bicycle_label,motorcycle_label)"
   ]
  },
  {
   "cell_type": "markdown",
   "metadata": {},
   "source": [
    "Good job! We only need objects with label 8 and 48 -- this drastically simplifies our handling of the data! Below we construct a dataframe for you, and you can safely drop the rows that don't contain observations about bicycles and motorcycles. Fill in the missing lines below to drop all other rows:"
   ]
  },
  {
   "cell_type": "code",
   "execution_count": 15,
   "metadata": {
    "tags": []
   },
   "outputs": [],
   "source": [
    "#Construct the dataframe\n",
    "df_train = pd.DataFrame({\n",
    "    \"filenames\": dataset_train[b'filenames'],\n",
    "    \"labels\": dataset_train[b'fine_labels'],\n",
    "    \"row\": range(len(dataset_train[b'filenames']))\n",
    "})\n",
    "\n",
    "# Drop all rows from df_train where label is not 8 or 48\n",
    "df_train = df_train[df_train[\"labels\"].isin([bicycle_label,motorcycle_label])] \n",
    "\n",
    "# Decode df_train.filenames so they are regular strings\n",
    "df_train[\"filenames\"] = df_train[\"filenames\"].apply(\n",
    "    lambda x: x.decode(\"utf-8\")\n",
    ")\n",
    "\n",
    "\n",
    "df_test = pd.DataFrame({\n",
    "    \"filenames\": dataset_test[b'filenames'],\n",
    "    \"labels\": dataset_test[b'fine_labels'],\n",
    "    \"row\": range(len(dataset_test[b'filenames']))\n",
    "})\n",
    "\n",
    "# Drop all rows from df_test where label is not 8 or 48\n",
    "df_test = df_test[df_test[\"labels\"].isin([bicycle_label,motorcycle_label])] \n",
    "\n",
    "# Decode df_test.filenames so they are regular strings\n",
    "df_test[\"filenames\"] = df_test[\"filenames\"].apply(\n",
    "    lambda x: x.decode(\"utf-8\")\n",
    ")"
   ]
  },
  {
   "cell_type": "markdown",
   "metadata": {},
   "source": [
    "Now that the data is filtered for just our classes, we can save all our images."
   ]
  },
  {
   "cell_type": "code",
   "execution_count": 21,
   "metadata": {
    "tags": []
   },
   "outputs": [
    {
     "name": "stdout",
     "output_type": "stream",
     "text": [
      "mkdir: cannot create directory ‘./train’: File exists\n",
      "mkdir: cannot create directory ‘./test’: File exists\n"
     ]
    }
   ],
   "source": [
    "!mkdir ./train\n",
    "!mkdir ./test"
   ]
  },
  {
   "cell_type": "markdown",
   "metadata": {},
   "source": [
    "In the previous sections we introduced you to several key snippets of code:\n",
    "\n",
    "1. Grabbing the image data:\n",
    "\n",
    "```python\n",
    "dataset_train[b'data'][0]\n",
    "```\n",
    "\n",
    "2. A simple idiom for stacking the image data into the right shape\n",
    "\n",
    "```python\n",
    "import numpy as np\n",
    "np.dstack((\n",
    "    row[0:1024].reshape(32,32),\n",
    "    row[1024:2048].reshape(32,32),\n",
    "    row[2048:].reshape(32,32)\n",
    "))\n",
    "```\n",
    "\n",
    "3. A simple `matplotlib` utility for saving images\n",
    "\n",
    "```python\n",
    "plt.imsave(path+row['filenames'], target)\n",
    "```\n",
    "\n",
    "Compose these together into a function that saves all the images into the `./test` and `./train` directories. Use the comments in the body of the `save_images` function below to guide your construction of the function:\n"
   ]
  },
  {
   "cell_type": "code",
   "execution_count": 22,
   "metadata": {
    "tags": []
   },
   "outputs": [],
   "source": [
    "import numpy as np\n",
    "import matplotlib.pyplot as plt\n",
    "def save_images(data, path, filenames):\n",
    "    n_data=len(data[b'filenames'])\n",
    "    for i in range(n_data):\n",
    "        file_name=data[b'filenames'][i].decode(\"utf-8\")\n",
    "        if not (any(filenames==file_name)):\n",
    "            continue\n",
    "        #Grab the image data in row-major form\n",
    "        img = data[b'data'][i]\n",
    "\n",
    "        # Consolidated stacking/reshaping from earlier\n",
    "        target = np.dstack((\n",
    "        img[0:1024].reshape(32,32),\n",
    "        img[1024:2048].reshape(32,32),\n",
    "        img[2048:].reshape(32,32)\n",
    "        ))\n",
    "\n",
    "        # Save the image\n",
    "        plt.imsave(path+'/'+file_name, target)\n",
    "\n",
    "\n",
    "    \n",
    "    # Return any signal data you want for debugging\n",
    "    return\n",
    "\n",
    "## TODO: save ALL images using the save_images function\n",
    "save_images(dataset_train, './train',df_train.filenames)\n",
    "save_images(dataset_test, './test', df_test.filenames)"
   ]
  },
  {
   "cell_type": "markdown",
   "metadata": {
    "tags": []
   },
   "source": [
    "ensure our images are writen in disk"
   ]
  },
  {
   "cell_type": "code",
   "execution_count": 23,
   "metadata": {
    "tags": []
   },
   "outputs": [
    {
     "name": "stdout",
     "output_type": "stream",
     "text": [
      "1000\n"
     ]
    }
   ],
   "source": [
    "!ls train | wc -l"
   ]
  },
  {
   "cell_type": "code",
   "execution_count": 24,
   "metadata": {
    "tags": []
   },
   "outputs": [
    {
     "name": "stdout",
     "output_type": "stream",
     "text": [
      "200\n"
     ]
    }
   ],
   "source": [
    "!ls test | wc -l"
   ]
  },
  {
   "cell_type": "code",
   "execution_count": 25,
   "metadata": {
    "tags": []
   },
   "outputs": [
    {
     "name": "stdout",
     "output_type": "stream",
     "text": [
      "1000 200\n"
     ]
    }
   ],
   "source": [
    "print(len(df_train['filenames']),len(df_test['filenames']) )"
   ]
  },
  {
   "cell_type": "markdown",
   "metadata": {},
   "source": [
    "### 3. Load the data\n",
    "\n",
    "Now we can load the data into S3.\n",
    "\n",
    "Using the sagemaker SDK grab the current region, execution role, and bucket."
   ]
  },
  {
   "cell_type": "code",
   "execution_count": 16,
   "metadata": {},
   "outputs": [
    {
     "name": "stdout",
     "output_type": "stream",
     "text": [
      "Default Bucket: sagemaker-us-east-1-718828618277\n",
      "AWS Region: us-east-1\n",
      "RoleArn: arn:aws:iam::718828618277:role/service-role/AmazonSageMaker-ExecutionRole-20230714T071774\n"
     ]
    }
   ],
   "source": [
    "import sagemaker\n",
    "\n",
    "session=sagemaker.Session()\n",
    "bucket= session.default_bucket()\n",
    "print(\"Default Bucket: {}\".format(bucket))\n",
    "\n",
    "region = session.boto_region_name\n",
    "print(\"AWS Region: {}\".format(region))\n",
    "\n",
    "role = sagemaker.get_execution_role()\n",
    "print(\"RoleArn: {}\".format(role))"
   ]
  },
  {
   "cell_type": "markdown",
   "metadata": {},
   "source": [
    "With this data we can easily sync your data up into S3!"
   ]
  },
  {
   "cell_type": "code",
   "execution_count": 17,
   "metadata": {
    "scrolled": true,
    "tags": []
   },
   "outputs": [],
   "source": [
    "import os\n",
    "\n",
    "os.environ[\"DEFAULT_S3_BUCKET\"] = bucket\n",
    "!aws s3 sync ./train s3://${DEFAULT_S3_BUCKET}/train/\n",
    "!aws s3 sync ./test s3://${DEFAULT_S3_BUCKET}/test/"
   ]
  },
  {
   "cell_type": "markdown",
   "metadata": {},
   "source": [
    "And that's it! You can check the bucket and verify that the items were uploaded.\n",
    "\n",
    "## Model Training\n",
    "\n",
    "For Image Classification, Sagemaker [also expects metadata](https://docs.aws.amazon.com/sagemaker/latest/dg/image-classification.html) e.g. in the form of TSV files with labels and filepaths. We can generate these using our Pandas DataFrames from earlier:"
   ]
  },
  {
   "cell_type": "code",
   "execution_count": 18,
   "metadata": {},
   "outputs": [],
   "source": [
    "def to_metadata_file(df, prefix):\n",
    "    df[\"s3_path\"] = df[\"filenames\"]\n",
    "    df[\"labels\"] = df[\"labels\"].apply(lambda x: 0 if x==8 else 1)\n",
    "    return df[[\"row\", \"labels\", \"s3_path\"]].to_csv(\n",
    "        f\"{prefix}.lst\", sep=\"\\t\", index=False, header=False\n",
    "    )\n",
    "    \n",
    "to_metadata_file(df_train.copy(), \"train\")\n",
    "to_metadata_file(df_test.copy(), \"test\")"
   ]
  },
  {
   "cell_type": "markdown",
   "metadata": {},
   "source": [
    "We can also upload our manifest files:"
   ]
  },
  {
   "cell_type": "code",
   "execution_count": 19,
   "metadata": {},
   "outputs": [],
   "source": [
    "import boto3\n",
    "\n",
    "# Upload files\n",
    "boto3.Session().resource('s3').Bucket(\n",
    "    bucket).Object('train.lst').upload_file('./train.lst')\n",
    "boto3.Session().resource('s3').Bucket(\n",
    "    bucket).Object('test.lst').upload_file('./test.lst')"
   ]
  },
  {
   "cell_type": "markdown",
   "metadata": {},
   "source": [
    "Using the `bucket` and `region` info we can get the latest prebuilt container to run our training job, and define an output location on our s3 bucket for the model. Use the `image_uris` function from the SageMaker SDK to retrieve the latest `image-classification` image below:"
   ]
  },
  {
   "cell_type": "code",
   "execution_count": 20,
   "metadata": {},
   "outputs": [],
   "source": [
    "# Use the image_uris function to retrieve the latest 'image-classification' image \n",
    "algo_image = sagemaker.image_uris.retrieve(framework='image-classification',region=region)\n",
    "s3_output_location = f\"s3://{bucket}/models/image_model\""
   ]
  },
  {
   "cell_type": "markdown",
   "metadata": {},
   "source": [
    "We're ready to create an estimator! Create an estimator `img_classifier_model` that uses one instance of `ml.p3.2xlarge`. Ensure that y ou use the output location we defined above - we'll be referring to that later!"
   ]
  },
  {
   "cell_type": "code",
   "execution_count": 21,
   "metadata": {},
   "outputs": [],
   "source": [
    "img_classifier_model=sagemaker.estimator.Estimator(\n",
    "    ## TODO: define your estimator options\n",
    "    algo_image,\n",
    "    role,\n",
    "    instance_count=1,\n",
    "    instance_type='ml.p3.2xlarge',\n",
    "    output_path=s3_output_location,\n",
    "    sagemaker_session=session\n",
    "    \n",
    ")"
   ]
  },
  {
   "cell_type": "markdown",
   "metadata": {},
   "source": [
    "We can also set a few key hyperparameters and define the inputs for our model:"
   ]
  },
  {
   "cell_type": "code",
   "execution_count": 22,
   "metadata": {},
   "outputs": [],
   "source": [
    "img_classifier_model.set_hyperparameters(\n",
    "    image_shape='3,32,32', # TODO: Fill in\n",
    "    num_classes=2, # We can use 1 also\n",
    "    num_training_samples=len(df_train), # TODO: fill in\n",
    "    epochs=35,\n",
    "    augmentation_type=\"crop\",\n",
    "    lr_scheduler_step=5,\n",
    "    lr_scheduler_factor=0.5,\n",
    "    \n",
    ")"
   ]
  },
  {
   "cell_type": "markdown",
   "metadata": {},
   "source": [
    "The `image-classification` image uses four input channels with very specific input parameters. For convenience, we've provided them below:"
   ]
  },
  {
   "cell_type": "code",
   "execution_count": 23,
   "metadata": {},
   "outputs": [],
   "source": [
    "from sagemaker.debugger import Rule, rule_configs\n",
    "from sagemaker.session import TrainingInput\n",
    "model_inputs = {\n",
    "        \"train\": sagemaker.inputs.TrainingInput(\n",
    "            s3_data=f\"s3://{bucket}/train/\",\n",
    "            content_type=\"application/x-image\"\n",
    "        ),\n",
    "        \"validation\": sagemaker.inputs.TrainingInput(\n",
    "            s3_data=f\"s3://{bucket}/test/\",\n",
    "            content_type=\"application/x-image\"\n",
    "        ),\n",
    "        \"train_lst\": sagemaker.inputs.TrainingInput(\n",
    "            s3_data=f\"s3://{bucket}/train.lst\",\n",
    "            content_type=\"application/x-image\"\n",
    "        ),\n",
    "        \"validation_lst\": sagemaker.inputs.TrainingInput(\n",
    "            s3_data=f\"s3://{bucket}/test.lst\",\n",
    "            content_type=\"application/x-image\"\n",
    "        )\n",
    "}"
   ]
  },
  {
   "cell_type": "markdown",
   "metadata": {},
   "source": [
    "Great, now we can train the model using the model_inputs. In the cell below, call the `fit` method on our model,:"
   ]
  },
  {
   "cell_type": "code",
   "execution_count": 24,
   "metadata": {},
   "outputs": [
    {
     "name": "stderr",
     "output_type": "stream",
     "text": [
      "INFO:sagemaker:Creating training-job with name: image-classification-2023-07-23-11-03-49-922\n"
     ]
    },
    {
     "name": "stdout",
     "output_type": "stream",
     "text": [
      "2023-07-23 11:03:50 Starting - Starting the training job......\n",
      "2023-07-23 11:04:26 Starting - Preparing the instances for training......\n",
      "2023-07-23 11:05:28 Downloading - Downloading input data...\n",
      "2023-07-23 11:05:53 Training - Downloading the training image...............\n",
      "2023-07-23 11:08:39 Training - Training image download completed. Training in progress...\u001b[34mDocker entrypoint called with argument(s): train\u001b[0m\n",
      "\u001b[34mRunning default environment configuration script\u001b[0m\n",
      "\u001b[34mNvidia gpu devices, drivers and cuda toolkit versions (only available on hosts with GPU):\u001b[0m\n",
      "\u001b[34mSun Jul 23 11:09:04 2023       \u001b[0m\n",
      "\u001b[34m+-----------------------------------------------------------------------------+\u001b[0m\n",
      "\u001b[34m| NVIDIA-SMI 525.85.12    Driver Version: 525.85.12    CUDA Version: 12.0     |\u001b[0m\n",
      "\u001b[34m|-------------------------------+----------------------+----------------------+\u001b[0m\n",
      "\u001b[34m| GPU  Name        Persistence-M| Bus-Id        Disp.A | Volatile Uncorr. ECC |\u001b[0m\n",
      "\u001b[34m| Fan  Temp  Perf  Pwr:Usage/Cap|         Memory-Usage | GPU-Util  Compute M. |\u001b[0m\n",
      "\u001b[34m|                               |                      |               MIG M. |\u001b[0m\n",
      "\u001b[34m|===============================+======================+======================|\u001b[0m\n",
      "\u001b[34m|   0  Tesla V100-SXM2...  On   | 00000000:00:1E.0 Off |                    0 |\u001b[0m\n",
      "\u001b[34m| N/A   39C    P0    25W / 300W |      0MiB / 16384MiB |      0%      Default |\u001b[0m\n",
      "\u001b[34m|                               |                      |                  N/A |\u001b[0m\n",
      "\u001b[34m+-------------------------------+----------------------+----------------------+\n",
      "                                                                               \u001b[0m\n",
      "\u001b[34m+-----------------------------------------------------------------------------+\u001b[0m\n",
      "\u001b[34m| Processes:                                                                  |\u001b[0m\n",
      "\u001b[34m|  GPU   GI   CI        PID   Type   Process name                  GPU Memory |\u001b[0m\n",
      "\u001b[34m|        ID   ID                                                   Usage      |\u001b[0m\n",
      "\u001b[34m|=============================================================================|\u001b[0m\n",
      "\u001b[34m|  No running processes found                                                 |\u001b[0m\n",
      "\u001b[34m+-----------------------------------------------------------------------------+\u001b[0m\n",
      "\u001b[34mChecking for nvidia driver and cuda compatibility.\u001b[0m\n",
      "\u001b[34mCUDA Compatibility driver provided.\u001b[0m\n",
      "\u001b[34mProceeding with compatibility check between driver, cuda-toolkit and cuda-compat.\u001b[0m\n",
      "\u001b[34mDetected cuda-toolkit version: 11.1.\u001b[0m\n",
      "\u001b[34mDetected cuda-compat version: 455.32.00.\u001b[0m\n",
      "\u001b[34mDetected Nvidia driver version: 525.85.12.\u001b[0m\n",
      "\u001b[34mNvidia driver compatible with cuda-toolkit. Disabling cuda-compat.\u001b[0m\n",
      "\u001b[34m[07/23/2023 11:09:08 INFO 139778888259392] Reading default configuration from /opt/amazon/lib/python3.7/site-packages/image_classification/default-input.json: {'use_pretrained_model': 0, 'num_layers': 152, 'epochs': 30, 'learning_rate': 0.1, 'lr_scheduler_factor': 0.1, 'optimizer': 'sgd', 'momentum': 0, 'weight_decay': 0.0001, 'beta_1': 0.9, 'beta_2': 0.999, 'eps': 1e-08, 'gamma': 0.9, 'mini_batch_size': 32, 'image_shape': '3,224,224', 'precision_dtype': 'float32'}\u001b[0m\n",
      "\u001b[34m[07/23/2023 11:09:08 INFO 139778888259392] Merging with provided configuration from /opt/ml/input/config/hyperparameters.json: {'augmentation_type': 'crop', 'epochs': '35', 'image_shape': '3,32,32', 'lr_scheduler_factor': '0.5', 'lr_scheduler_step': '5', 'num_classes': '2', 'num_training_samples': '1000'}\u001b[0m\n",
      "\u001b[34m[07/23/2023 11:09:08 INFO 139778888259392] Final configuration: {'use_pretrained_model': 0, 'num_layers': 152, 'epochs': '35', 'learning_rate': 0.1, 'lr_scheduler_factor': '0.5', 'optimizer': 'sgd', 'momentum': 0, 'weight_decay': 0.0001, 'beta_1': 0.9, 'beta_2': 0.999, 'eps': 1e-08, 'gamma': 0.9, 'mini_batch_size': 32, 'image_shape': '3,32,32', 'precision_dtype': 'float32', 'augmentation_type': 'crop', 'lr_scheduler_step': '5', 'num_classes': '2', 'num_training_samples': '1000'}\u001b[0m\n",
      "\u001b[34m[07/23/2023 11:09:08 INFO 139778888259392] Searching for .lst files in /opt/ml/input/data/train_lst.\u001b[0m\n",
      "\u001b[34m[07/23/2023 11:09:08 INFO 139778888259392] Creating record files for train.lst\u001b[0m\n",
      "\u001b[34m[07/23/2023 11:09:08 INFO 139778888259392] Done creating record files...\u001b[0m\n",
      "\u001b[34m[07/23/2023 11:09:08 INFO 139778888259392] Searching for .lst files in /opt/ml/input/data/validation_lst.\u001b[0m\n",
      "\u001b[34m[07/23/2023 11:09:08 INFO 139778888259392] Creating record files for test.lst\u001b[0m\n",
      "\u001b[34m[07/23/2023 11:09:08 INFO 139778888259392] Done creating record files...\u001b[0m\n",
      "\u001b[34m[07/23/2023 11:09:08 INFO 139778888259392] use_pretrained_model: 0\u001b[0m\n",
      "\u001b[34m[07/23/2023 11:09:08 INFO 139778888259392] multi_label: 0\u001b[0m\n",
      "\u001b[34m[07/23/2023 11:09:08 INFO 139778888259392] Performing random weight initialization\u001b[0m\n",
      "\u001b[34m[07/23/2023 11:09:08 INFO 139778888259392] ---- Parameters ----\u001b[0m\n",
      "\u001b[34m[07/23/2023 11:09:08 INFO 139778888259392] num_layers: 152\u001b[0m\n",
      "\u001b[34m[07/23/2023 11:09:08 INFO 139778888259392] data type: <class 'numpy.float32'>\u001b[0m\n",
      "\u001b[34m[07/23/2023 11:09:08 INFO 139778888259392] epochs: 35\u001b[0m\n",
      "\u001b[34m[07/23/2023 11:09:08 INFO 139778888259392] optimizer: sgd\u001b[0m\n",
      "\u001b[34m[07/23/2023 11:09:08 INFO 139778888259392] momentum: 0.9\u001b[0m\n",
      "\u001b[34m[07/23/2023 11:09:08 INFO 139778888259392] weight_decay: 0.0001\u001b[0m\n",
      "\u001b[34m[07/23/2023 11:09:08 INFO 139778888259392] learning_rate: 0.1\u001b[0m\n",
      "\u001b[34m[07/23/2023 11:09:08 INFO 139778888259392] lr_scheduler_factor: 0.5\u001b[0m\n",
      "\u001b[34m[07/23/2023 11:09:08 INFO 139778888259392] lr_scheduler_step: 5\u001b[0m\n",
      "\u001b[34m[07/23/2023 11:09:08 INFO 139778888259392] num_training_samples: 1000\u001b[0m\n",
      "\u001b[34m[07/23/2023 11:09:08 INFO 139778888259392] mini_batch_size: 32\u001b[0m\n",
      "\u001b[34m[07/23/2023 11:09:08 INFO 139778888259392] image_shape: 3,32,32\u001b[0m\n",
      "\u001b[34m[07/23/2023 11:09:08 INFO 139778888259392] num_classes: 2\u001b[0m\n",
      "\u001b[34m[07/23/2023 11:09:08 INFO 139778888259392] augmentation_type: crop\u001b[0m\n",
      "\u001b[34m[07/23/2023 11:09:08 INFO 139778888259392] kv_store: device\u001b[0m\n",
      "\u001b[34m[07/23/2023 11:09:08 INFO 139778888259392] checkpoint_frequency not set, will store the best model\u001b[0m\n",
      "\u001b[34m[07/23/2023 11:09:08 INFO 139778888259392] --------------------\u001b[0m\n",
      "\u001b[34m[07/23/2023 11:09:08 INFO 139778888259392] Setting number of threads: 7\u001b[0m\n",
      "\u001b[34m[11:09:12] /opt/brazil-pkg-cache/packages/AIAlgorithmsMXNet/AIAlgorithmsMXNet-1.4.x_ecl_Cuda_11.1.x.212.0/AL2_x86_64/generic-flavor/src/src/operator/nn/./cudnn/./cudnn_algoreg-inl.h:97: Running performance tests to find the best convolution algorithm, this can take a while... (setting env variable MXNET_CUDNN_AUTOTUNE_DEFAULT to 0 to disable)\u001b[0m\n",
      "\u001b[34m[07/23/2023 11:09:18 INFO 139778888259392] Epoch[0] Batch [20]#011Speed: 116.035 samples/sec#011accuracy=0.550595\u001b[0m\n",
      "\u001b[34m[07/23/2023 11:09:19 INFO 139778888259392] Epoch[0] Train-accuracy=0.597782\u001b[0m\n",
      "\u001b[34m[07/23/2023 11:09:19 INFO 139778888259392] Epoch[0] Time cost=7.257\u001b[0m\n",
      "\u001b[34m[07/23/2023 11:09:20 INFO 139778888259392] Epoch[0] Validation-accuracy=0.598958\u001b[0m\n",
      "\u001b[34m[07/23/2023 11:09:20 INFO 139778888259392] Storing the best model with validation accuracy: 0.598958\u001b[0m\n",
      "\u001b[34m[07/23/2023 11:09:21 INFO 139778888259392] Saved checkpoint to \"/opt/ml/model/image-classification-0001.params\"\u001b[0m\n",
      "\u001b[34m[07/23/2023 11:09:24 INFO 139778888259392] Epoch[1] Batch [20]#011Speed: 180.396 samples/sec#011accuracy=0.705357\u001b[0m\n",
      "\u001b[34m[07/23/2023 11:09:26 INFO 139778888259392] Epoch[1] Train-accuracy=0.716734\u001b[0m\n",
      "\u001b[34m[07/23/2023 11:09:26 INFO 139778888259392] Epoch[1] Time cost=5.238\u001b[0m\n",
      "\u001b[34m[07/23/2023 11:09:26 INFO 139778888259392] Epoch[1] Validation-accuracy=0.739583\u001b[0m\n",
      "\u001b[34m[07/23/2023 11:09:27 INFO 139778888259392] Storing the best model with validation accuracy: 0.739583\u001b[0m\n",
      "\u001b[34m[07/23/2023 11:09:27 INFO 139778888259392] Saved checkpoint to \"/opt/ml/model/image-classification-0002.params\"\u001b[0m\n",
      "\u001b[34m[07/23/2023 11:09:31 INFO 139778888259392] Epoch[2] Batch [20]#011Speed: 186.872 samples/sec#011accuracy=0.736607\u001b[0m\n",
      "\u001b[34m[07/23/2023 11:09:32 INFO 139778888259392] Epoch[2] Train-accuracy=0.730847\u001b[0m\n",
      "\u001b[34m[07/23/2023 11:09:32 INFO 139778888259392] Epoch[2] Time cost=5.091\u001b[0m\n",
      "\u001b[34m[07/23/2023 11:09:33 INFO 139778888259392] Epoch[2] Validation-accuracy=0.786458\u001b[0m\n",
      "\u001b[34m[07/23/2023 11:09:33 INFO 139778888259392] Storing the best model with validation accuracy: 0.786458\u001b[0m\n",
      "\u001b[34m[07/23/2023 11:09:33 INFO 139778888259392] Saved checkpoint to \"/opt/ml/model/image-classification-0003.params\"\u001b[0m\n",
      "\u001b[34m[07/23/2023 11:09:37 INFO 139778888259392] Epoch[3] Batch [20]#011Speed: 188.704 samples/sec#011accuracy=0.715774\u001b[0m\n",
      "\u001b[34m[07/23/2023 11:09:38 INFO 139778888259392] Epoch[3] Train-accuracy=0.745968\u001b[0m\n",
      "\u001b[34m[07/23/2023 11:09:38 INFO 139778888259392] Epoch[3] Time cost=5.056\u001b[0m\n",
      "\u001b[34m[07/23/2023 11:09:39 INFO 139778888259392] Epoch[3] Validation-accuracy=0.790179\u001b[0m\n",
      "\u001b[34m[07/23/2023 11:09:39 INFO 139778888259392] Storing the best model with validation accuracy: 0.790179\u001b[0m\n",
      "\u001b[34m[07/23/2023 11:09:40 INFO 139778888259392] Saved checkpoint to \"/opt/ml/model/image-classification-0004.params\"\u001b[0m\n",
      "\u001b[34m[07/23/2023 11:09:43 INFO 139778888259392] Epoch[4] Batch [20]#011Speed: 187.163 samples/sec#011accuracy=0.781250\u001b[0m\n",
      "\u001b[34m[07/23/2023 11:09:45 INFO 139778888259392] Epoch[4] Train-accuracy=0.780242\u001b[0m\n",
      "\u001b[34m[07/23/2023 11:09:45 INFO 139778888259392] Epoch[4] Time cost=5.094\u001b[0m\n",
      "\u001b[34m[07/23/2023 11:09:45 INFO 139778888259392] Epoch[4] Validation-accuracy=0.802083\u001b[0m\n",
      "\u001b[34m[07/23/2023 11:09:46 INFO 139778888259392] Storing the best model with validation accuracy: 0.802083\u001b[0m\n",
      "\u001b[34m[07/23/2023 11:09:46 INFO 139778888259392] Saved checkpoint to \"/opt/ml/model/image-classification-0005.params\"\u001b[0m\n",
      "\u001b[34m[07/23/2023 11:09:46 INFO 139778888259392] Update[156]: Change learning rate to 5.00000e-02\u001b[0m\n",
      "\u001b[34m[07/23/2023 11:09:49 INFO 139778888259392] Epoch[5] Batch [20]#011Speed: 186.905 samples/sec#011accuracy=0.828869\u001b[0m\n",
      "\u001b[34m[07/23/2023 11:09:51 INFO 139778888259392] Epoch[5] Train-accuracy=0.810484\u001b[0m\n",
      "\u001b[34m[07/23/2023 11:09:51 INFO 139778888259392] Epoch[5] Time cost=5.096\u001b[0m\n",
      "\u001b[34m[07/23/2023 11:09:52 INFO 139778888259392] Epoch[5] Validation-accuracy=0.817708\u001b[0m\n",
      "\u001b[34m[07/23/2023 11:09:52 INFO 139778888259392] Storing the best model with validation accuracy: 0.817708\u001b[0m\n",
      "\u001b[34m[07/23/2023 11:09:52 INFO 139778888259392] Saved checkpoint to \"/opt/ml/model/image-classification-0006.params\"\u001b[0m\n",
      "\u001b[34m[07/23/2023 11:09:56 INFO 139778888259392] Epoch[6] Batch [20]#011Speed: 186.181 samples/sec#011accuracy=0.824405\u001b[0m\n",
      "\u001b[34m[07/23/2023 11:09:57 INFO 139778888259392] Epoch[6] Train-accuracy=0.827621\u001b[0m\n",
      "\u001b[34m[07/23/2023 11:09:57 INFO 139778888259392] Epoch[6] Time cost=5.094\u001b[0m\n",
      "\u001b[34m[07/23/2023 11:09:58 INFO 139778888259392] Epoch[6] Validation-accuracy=0.796875\u001b[0m\n",
      "\u001b[34m[07/23/2023 11:10:02 INFO 139778888259392] Epoch[7] Batch [20]#011Speed: 185.566 samples/sec#011accuracy=0.846726\u001b[0m\n",
      "\u001b[34m[07/23/2023 11:10:04 INFO 139778888259392] Epoch[7] Train-accuracy=0.835685\u001b[0m\n",
      "\u001b[34m[07/23/2023 11:10:04 INFO 139778888259392] Epoch[7] Time cost=5.172\u001b[0m\n",
      "\u001b[34m[07/23/2023 11:10:04 INFO 139778888259392] Epoch[7] Validation-accuracy=0.816964\u001b[0m\n",
      "\u001b[34m[07/23/2023 11:10:08 INFO 139778888259392] Epoch[8] Batch [20]#011Speed: 186.777 samples/sec#011accuracy=0.849702\u001b[0m\n",
      "\u001b[34m[07/23/2023 11:10:10 INFO 139778888259392] Epoch[8] Train-accuracy=0.845766\u001b[0m\n",
      "\u001b[34m[07/23/2023 11:10:10 INFO 139778888259392] Epoch[8] Time cost=5.123\u001b[0m\n",
      "\u001b[34m[07/23/2023 11:10:10 INFO 139778888259392] Epoch[8] Validation-accuracy=0.838542\u001b[0m\n",
      "\u001b[34m[07/23/2023 11:10:10 INFO 139778888259392] Storing the best model with validation accuracy: 0.838542\u001b[0m\n",
      "\u001b[34m[07/23/2023 11:10:11 INFO 139778888259392] Saved checkpoint to \"/opt/ml/model/image-classification-0009.params\"\u001b[0m\n",
      "\u001b[34m[07/23/2023 11:10:14 INFO 139778888259392] Epoch[9] Batch [20]#011Speed: 186.682 samples/sec#011accuracy=0.857143\u001b[0m\n",
      "\u001b[34m[07/23/2023 11:10:16 INFO 139778888259392] Epoch[9] Train-accuracy=0.849798\u001b[0m\n",
      "\u001b[34m[07/23/2023 11:10:16 INFO 139778888259392] Epoch[9] Time cost=5.088\u001b[0m\n",
      "\u001b[34m[07/23/2023 11:10:16 INFO 139778888259392] Epoch[9] Validation-accuracy=0.875000\u001b[0m\n",
      "\u001b[34m[07/23/2023 11:10:17 INFO 139778888259392] Storing the best model with validation accuracy: 0.875000\u001b[0m\n",
      "\u001b[34m[07/23/2023 11:10:17 INFO 139778888259392] Saved checkpoint to \"/opt/ml/model/image-classification-0010.params\"\u001b[0m\n",
      "\u001b[34m[07/23/2023 11:10:21 INFO 139778888259392] Epoch[10] Batch [20]#011Speed: 186.296 samples/sec#011accuracy=0.858631\u001b[0m\n",
      "\u001b[34m[07/23/2023 11:10:22 INFO 139778888259392] Epoch[10] Train-accuracy=0.868952\u001b[0m\n",
      "\u001b[34m[07/23/2023 11:10:22 INFO 139778888259392] Epoch[10] Time cost=5.108\u001b[0m\n",
      "\u001b[34m[07/23/2023 11:10:23 INFO 139778888259392] Epoch[10] Validation-accuracy=0.854167\u001b[0m\n",
      "\u001b[34m[07/23/2023 11:10:27 INFO 139778888259392] Epoch[11] Batch [20]#011Speed: 186.649 samples/sec#011accuracy=0.895833\u001b[0m\n",
      "\u001b[34m[07/23/2023 11:10:28 INFO 139778888259392] Epoch[11] Train-accuracy=0.881048\u001b[0m\n",
      "\u001b[34m[07/23/2023 11:10:28 INFO 139778888259392] Epoch[11] Time cost=5.113\u001b[0m\n",
      "\u001b[34m[07/23/2023 11:10:29 INFO 139778888259392] Epoch[11] Validation-accuracy=0.821429\u001b[0m\n",
      "\u001b[34m[07/23/2023 11:10:33 INFO 139778888259392] Epoch[12] Batch [20]#011Speed: 185.923 samples/sec#011accuracy=0.873512\u001b[0m\n",
      "\u001b[34m[07/23/2023 11:10:34 INFO 139778888259392] Epoch[12] Train-accuracy=0.872984\u001b[0m\n",
      "\u001b[34m[07/23/2023 11:10:34 INFO 139778888259392] Epoch[12] Time cost=5.095\u001b[0m\n",
      "\u001b[34m[07/23/2023 11:10:35 INFO 139778888259392] Epoch[12] Validation-accuracy=0.812500\u001b[0m\n",
      "\u001b[34m[07/23/2023 11:10:39 INFO 139778888259392] Epoch[13] Batch [20]#011Speed: 185.805 samples/sec#011accuracy=0.898810\u001b[0m\n",
      "\u001b[34m[07/23/2023 11:10:41 INFO 139778888259392] Epoch[13] Train-accuracy=0.897177\u001b[0m\n",
      "\u001b[34m[07/23/2023 11:10:41 INFO 139778888259392] Epoch[13] Time cost=5.117\u001b[0m\n",
      "\u001b[34m[07/23/2023 11:10:41 INFO 139778888259392] Epoch[13] Validation-accuracy=0.838542\u001b[0m\n",
      "\u001b[34m[07/23/2023 11:10:45 INFO 139778888259392] Epoch[14] Batch [20]#011Speed: 188.961 samples/sec#011accuracy=0.913690\u001b[0m\n",
      "\u001b[34m[07/23/2023 11:10:47 INFO 139778888259392] Epoch[14] Train-accuracy=0.901210\u001b[0m\n",
      "\u001b[34m[07/23/2023 11:10:47 INFO 139778888259392] Epoch[14] Time cost=5.066\u001b[0m\n",
      "\u001b[34m[07/23/2023 11:10:47 INFO 139778888259392] Epoch[14] Validation-accuracy=0.848958\u001b[0m\n",
      "\u001b[34m[07/23/2023 11:10:51 INFO 139778888259392] Epoch[15] Batch [20]#011Speed: 187.243 samples/sec#011accuracy=0.879464\u001b[0m\n",
      "\u001b[34m[07/23/2023 11:10:53 INFO 139778888259392] Epoch[15] Train-accuracy=0.875000\u001b[0m\n",
      "\u001b[34m[07/23/2023 11:10:53 INFO 139778888259392] Epoch[15] Time cost=5.101\u001b[0m\n",
      "\u001b[34m[07/23/2023 11:10:53 INFO 139778888259392] Epoch[15] Validation-accuracy=0.861607\u001b[0m\n",
      "\u001b[34m[07/23/2023 11:10:57 INFO 139778888259392] Epoch[16] Batch [20]#011Speed: 187.414 samples/sec#011accuracy=0.927083\u001b[0m\n",
      "\u001b[34m[07/23/2023 11:10:59 INFO 139778888259392] Epoch[16] Train-accuracy=0.921371\u001b[0m\n",
      "\u001b[34m[07/23/2023 11:10:59 INFO 139778888259392] Epoch[16] Time cost=5.078\u001b[0m\n",
      "\u001b[34m[07/23/2023 11:10:59 INFO 139778888259392] Epoch[16] Validation-accuracy=0.828125\u001b[0m\n",
      "\u001b[34m[07/23/2023 11:11:03 INFO 139778888259392] Epoch[17] Batch [20]#011Speed: 182.145 samples/sec#011accuracy=0.927083\u001b[0m\n",
      "\u001b[34m[07/23/2023 11:11:05 INFO 139778888259392] Epoch[17] Train-accuracy=0.920363\u001b[0m\n",
      "\u001b[34m[07/23/2023 11:11:05 INFO 139778888259392] Epoch[17] Time cost=5.191\u001b[0m\n",
      "\u001b[34m[07/23/2023 11:11:05 INFO 139778888259392] Epoch[17] Validation-accuracy=0.864583\u001b[0m\n",
      "\u001b[34m[07/23/2023 11:11:09 INFO 139778888259392] Epoch[18] Batch [20]#011Speed: 187.364 samples/sec#011accuracy=0.903274\u001b[0m\n",
      "\u001b[34m[07/23/2023 11:11:11 INFO 139778888259392] Epoch[18] Train-accuracy=0.913306\u001b[0m\n",
      "\u001b[34m[07/23/2023 11:11:11 INFO 139778888259392] Epoch[18] Time cost=5.099\u001b[0m\n",
      "\u001b[34m[07/23/2023 11:11:11 INFO 139778888259392] Epoch[18] Validation-accuracy=0.828125\u001b[0m\n",
      "\u001b[34m[07/23/2023 11:11:15 INFO 139778888259392] Epoch[19] Batch [20]#011Speed: 187.304 samples/sec#011accuracy=0.944940\u001b[0m\n",
      "\u001b[34m[07/23/2023 11:11:17 INFO 139778888259392] Epoch[19] Train-accuracy=0.941532\u001b[0m\n",
      "\u001b[34m[07/23/2023 11:11:17 INFO 139778888259392] Epoch[19] Time cost=5.115\u001b[0m\n",
      "\u001b[34m[07/23/2023 11:11:18 INFO 139778888259392] Epoch[19] Validation-accuracy=0.825893\u001b[0m\n",
      "\u001b[34m[07/23/2023 11:11:22 INFO 139778888259392] Epoch[20] Batch [20]#011Speed: 185.472 samples/sec#011accuracy=0.933036\u001b[0m\n",
      "\u001b[34m[07/23/2023 11:11:23 INFO 139778888259392] Epoch[20] Train-accuracy=0.931452\u001b[0m\n",
      "\u001b[34m[07/23/2023 11:11:23 INFO 139778888259392] Epoch[20] Time cost=5.114\u001b[0m\n",
      "\u001b[34m[07/23/2023 11:11:24 INFO 139778888259392] Epoch[20] Validation-accuracy=0.822917\u001b[0m\n",
      "\u001b[34m[07/23/2023 11:11:28 INFO 139778888259392] Epoch[21] Batch [20]#011Speed: 188.454 samples/sec#011accuracy=0.937500\u001b[0m\n",
      "\u001b[34m[07/23/2023 11:11:29 INFO 139778888259392] Epoch[21] Train-accuracy=0.943548\u001b[0m\n",
      "\u001b[34m[07/23/2023 11:11:29 INFO 139778888259392] Epoch[21] Time cost=5.083\u001b[0m\n",
      "\u001b[34m[07/23/2023 11:11:30 INFO 139778888259392] Epoch[21] Validation-accuracy=0.833333\u001b[0m\n",
      "\u001b[34m[07/23/2023 11:11:34 INFO 139778888259392] Epoch[22] Batch [20]#011Speed: 189.130 samples/sec#011accuracy=0.956845\u001b[0m\n",
      "\u001b[34m[07/23/2023 11:11:35 INFO 139778888259392] Epoch[22] Train-accuracy=0.947581\u001b[0m\n",
      "\u001b[34m[07/23/2023 11:11:35 INFO 139778888259392] Epoch[22] Time cost=5.061\u001b[0m\n",
      "\u001b[34m[07/23/2023 11:11:36 INFO 139778888259392] Epoch[22] Validation-accuracy=0.833333\u001b[0m\n",
      "\u001b[34m[07/23/2023 11:11:40 INFO 139778888259392] Epoch[23] Batch [20]#011Speed: 187.650 samples/sec#011accuracy=0.949405\u001b[0m\n",
      "\u001b[34m[07/23/2023 11:11:42 INFO 139778888259392] Epoch[23] Train-accuracy=0.940524\u001b[0m\n",
      "\u001b[34m[07/23/2023 11:11:42 INFO 139778888259392] Epoch[23] Time cost=5.112\u001b[0m\n",
      "\u001b[34m[07/23/2023 11:11:42 INFO 139778888259392] Epoch[23] Validation-accuracy=0.816964\u001b[0m\n",
      "\u001b[34m[07/23/2023 11:11:46 INFO 139778888259392] Epoch[24] Batch [20]#011Speed: 187.202 samples/sec#011accuracy=0.958333\u001b[0m\n",
      "\u001b[34m[07/23/2023 11:11:48 INFO 139778888259392] Epoch[24] Train-accuracy=0.963710\u001b[0m\n",
      "\u001b[34m[07/23/2023 11:11:48 INFO 139778888259392] Epoch[24] Time cost=5.086\u001b[0m\n",
      "\u001b[34m[07/23/2023 11:11:48 INFO 139778888259392] Epoch[24] Validation-accuracy=0.859375\u001b[0m\n",
      "\u001b[34m[07/23/2023 11:11:52 INFO 139778888259392] Epoch[25] Batch [20]#011Speed: 187.822 samples/sec#011accuracy=0.955357\u001b[0m\n",
      "\u001b[34m[07/23/2023 11:11:54 INFO 139778888259392] Epoch[25] Train-accuracy=0.947581\u001b[0m\n",
      "\u001b[34m[07/23/2023 11:11:54 INFO 139778888259392] Epoch[25] Time cost=5.096\u001b[0m\n",
      "\u001b[34m[07/23/2023 11:11:54 INFO 139778888259392] Epoch[25] Validation-accuracy=0.843750\u001b[0m\n",
      "\u001b[34m[07/23/2023 11:11:58 INFO 139778888259392] Epoch[26] Batch [20]#011Speed: 188.117 samples/sec#011accuracy=0.944940\u001b[0m\n",
      "\u001b[34m[07/23/2023 11:12:00 INFO 139778888259392] Epoch[26] Train-accuracy=0.947581\u001b[0m\n",
      "\u001b[34m[07/23/2023 11:12:00 INFO 139778888259392] Epoch[26] Time cost=5.083\u001b[0m\n",
      "\u001b[34m[07/23/2023 11:12:00 INFO 139778888259392] Epoch[26] Validation-accuracy=0.843750\u001b[0m\n",
      "\u001b[34m[07/23/2023 11:12:04 INFO 139778888259392] Epoch[27] Batch [20]#011Speed: 183.537 samples/sec#011accuracy=0.971726\u001b[0m\n",
      "\u001b[34m[07/23/2023 11:12:06 INFO 139778888259392] Epoch[27] Train-accuracy=0.969758\u001b[0m\n",
      "\u001b[34m[07/23/2023 11:12:06 INFO 139778888259392] Epoch[27] Time cost=5.166\u001b[0m\n",
      "\u001b[34m[07/23/2023 11:12:06 INFO 139778888259392] Epoch[27] Validation-accuracy=0.816964\u001b[0m\n",
      "\u001b[34m[07/23/2023 11:12:10 INFO 139778888259392] Epoch[28] Batch [20]#011Speed: 185.991 samples/sec#011accuracy=0.956845\u001b[0m\n",
      "\u001b[34m[07/23/2023 11:12:12 INFO 139778888259392] Epoch[28] Train-accuracy=0.946573\u001b[0m\n",
      "\u001b[34m[07/23/2023 11:12:12 INFO 139778888259392] Epoch[28] Time cost=5.113\u001b[0m\n",
      "\u001b[34m[07/23/2023 11:12:12 INFO 139778888259392] Epoch[28] Validation-accuracy=0.812500\u001b[0m\n",
      "\u001b[34m[07/23/2023 11:12:16 INFO 139778888259392] Epoch[29] Batch [20]#011Speed: 186.691 samples/sec#011accuracy=0.973214\u001b[0m\n",
      "\u001b[34m[07/23/2023 11:12:18 INFO 139778888259392] Epoch[29] Train-accuracy=0.965726\u001b[0m\n",
      "\u001b[34m[07/23/2023 11:12:18 INFO 139778888259392] Epoch[29] Time cost=5.099\u001b[0m\n",
      "\u001b[34m[07/23/2023 11:12:19 INFO 139778888259392] Epoch[29] Validation-accuracy=0.854167\u001b[0m\n",
      "\u001b[34m[07/23/2023 11:12:22 INFO 139778888259392] Epoch[30] Batch [20]#011Speed: 187.049 samples/sec#011accuracy=0.961310\u001b[0m\n",
      "\u001b[34m[07/23/2023 11:12:24 INFO 139778888259392] Epoch[30] Train-accuracy=0.965726\u001b[0m\n",
      "\u001b[34m[07/23/2023 11:12:24 INFO 139778888259392] Epoch[30] Time cost=5.093\u001b[0m\n",
      "\u001b[34m[07/23/2023 11:12:25 INFO 139778888259392] Epoch[30] Validation-accuracy=0.822917\u001b[0m\n",
      "\u001b[34m[07/23/2023 11:12:29 INFO 139778888259392] Epoch[31] Batch [20]#011Speed: 188.246 samples/sec#011accuracy=0.970238\u001b[0m\n",
      "\u001b[34m[07/23/2023 11:12:30 INFO 139778888259392] Epoch[31] Train-accuracy=0.963710\u001b[0m\n",
      "\u001b[34m[07/23/2023 11:12:30 INFO 139778888259392] Epoch[31] Time cost=5.111\u001b[0m\n",
      "\u001b[34m[07/23/2023 11:12:31 INFO 139778888259392] Epoch[31] Validation-accuracy=0.843750\u001b[0m\n",
      "\u001b[34m[07/23/2023 11:12:35 INFO 139778888259392] Epoch[32] Batch [20]#011Speed: 187.898 samples/sec#011accuracy=0.979167\u001b[0m\n",
      "\u001b[34m[07/23/2023 11:12:36 INFO 139778888259392] Epoch[32] Train-accuracy=0.973790\u001b[0m\n",
      "\u001b[34m[07/23/2023 11:12:36 INFO 139778888259392] Epoch[32] Time cost=5.071\u001b[0m\n",
      "\u001b[34m[07/23/2023 11:12:37 INFO 139778888259392] Epoch[32] Validation-accuracy=0.848958\u001b[0m\n",
      "\u001b[34m[07/23/2023 11:12:41 INFO 139778888259392] Epoch[33] Batch [20]#011Speed: 187.960 samples/sec#011accuracy=0.977679\u001b[0m\n",
      "\u001b[34m[07/23/2023 11:12:42 INFO 139778888259392] Epoch[33] Train-accuracy=0.976815\u001b[0m\n",
      "\u001b[34m[07/23/2023 11:12:42 INFO 139778888259392] Epoch[33] Time cost=5.070\u001b[0m\n",
      "\u001b[34m[07/23/2023 11:12:43 INFO 139778888259392] Epoch[33] Validation-accuracy=0.828125\u001b[0m\n",
      "\n",
      "2023-07-23 11:12:55 Uploading - Uploading generated training model\u001b[34m[07/23/2023 11:12:47 INFO 139778888259392] Epoch[34] Batch [20]#011Speed: 187.727 samples/sec#011accuracy=0.953869\u001b[0m\n",
      "\u001b[34m[07/23/2023 11:12:48 INFO 139778888259392] Epoch[34] Train-accuracy=0.959677\u001b[0m\n",
      "\u001b[34m[07/23/2023 11:12:48 INFO 139778888259392] Epoch[34] Time cost=5.093\u001b[0m\n",
      "\u001b[34m[07/23/2023 11:12:49 INFO 139778888259392] Epoch[34] Validation-accuracy=0.880208\u001b[0m\n",
      "\u001b[34m[07/23/2023 11:12:49 INFO 139778888259392] Storing the best model with validation accuracy: 0.880208\u001b[0m\n",
      "\u001b[34m[07/23/2023 11:12:50 INFO 139778888259392] Saved checkpoint to \"/opt/ml/model/image-classification-0035.params\"\u001b[0m\n",
      "\n",
      "2023-07-23 11:13:21 Completed - Training job completed\n",
      "Training seconds: 474\n",
      "Billable seconds: 474\n"
     ]
    }
   ],
   "source": [
    "## TODO: train your model\n",
    "img_classifier_model.fit(model_inputs)"
   ]
  },
  {
   "cell_type": "markdown",
   "metadata": {},
   "source": [
    "If all goes well, you'll end up with a model topping out above `.8` validation accuracy. With only 1000 training samples in the CIFAR dataset, that's pretty good. We could definitely pursue data augmentation & gathering more samples to help us improve further, but for now let's proceed to deploy our model.\n",
    "\n",
    "### Getting ready to deploy\n",
    "\n",
    "To begin with, let's configure Model Monitor to track our deployment. We'll define a `DataCaptureConfig` below:"
   ]
  },
  {
   "cell_type": "code",
   "execution_count": 25,
   "metadata": {},
   "outputs": [],
   "source": [
    "from sagemaker.model_monitor import DataCaptureConfig\n",
    "\n",
    "data_capture_config = DataCaptureConfig(\n",
    "    ## TODO: Set config options\n",
    "    enable_capture=True,\n",
    "    sampling_percentage=100,\n",
    "    destination_s3_uri=f\"s3://{bucket}/data_capture\"\n",
    ")"
   ]
  },
  {
   "cell_type": "markdown",
   "metadata": {},
   "source": [
    "Note the `destination_s3_uri` parameter: At the end of the project, we can explore the `data_capture` directory in S3 to find crucial data about the inputs and outputs Model Monitor has observed on our model endpoint over time.\n",
    "\n",
    "With that done, deploy your model on a single `ml.m5.xlarge` instance with the data capture config attached:"
   ]
  },
  {
   "cell_type": "code",
   "execution_count": 26,
   "metadata": {},
   "outputs": [
    {
     "name": "stderr",
     "output_type": "stream",
     "text": [
      "INFO:sagemaker:Creating model with name: image-classification-2023-07-23-11-13-42-624\n",
      "INFO:sagemaker:Creating endpoint-config with name image-classification-2023-07-23-11-13-42-624\n",
      "INFO:sagemaker:Creating endpoint with name image-classification-2023-07-23-11-13-42-624\n"
     ]
    },
    {
     "name": "stdout",
     "output_type": "stream",
     "text": [
      "-------!image-classification-2023-07-23-11-13-42-624\n"
     ]
    }
   ],
   "source": [
    "deployment = img_classifier_model.deploy(\n",
    "    ## TODO: fill in deployment options\n",
    "    initial_instance_count=1,\n",
    "    instance_type='ml.m5.xlarge',\n",
    "    data_capture_config=data_capture_config\n",
    "    )\n",
    "\n",
    "endpoint = deployment.endpoint_name\n",
    "print(endpoint)"
   ]
  },
  {
   "cell_type": "markdown",
   "metadata": {},
   "source": [
    "Note the endpoint name for later as well.\n",
    "\n",
    "Next, instantiate a Predictor:"
   ]
  },
  {
   "cell_type": "code",
   "execution_count": 27,
   "metadata": {},
   "outputs": [],
   "source": [
    "predictor = sagemaker.Predictor(endpoint,sagemaker_session=session)"
   ]
  },
  {
   "cell_type": "markdown",
   "metadata": {},
   "source": [
    "In the code snippet below we are going to prepare one of your saved images for prediction. Use the predictor to process the `payload`."
   ]
  },
  {
   "cell_type": "code",
   "execution_count": 28,
   "metadata": {},
   "outputs": [],
   "source": [
    "from sagemaker.serializers import IdentitySerializer\n",
    "import base64\n",
    "\n",
    "predictor.serializer = IdentitySerializer(\"image/png\")\n",
    "with open(\"./test/bicycle_s_001789.png\", \"rb\") as f:\n",
    "    payload = f.read()\n",
    "\n",
    "    \n",
    "inference = predictor.predict(payload, initial_args={'ContentType': 'application/x-image'})## TODO: Process the payload with your predictor"
   ]
  },
  {
   "cell_type": "markdown",
   "metadata": {},
   "source": [
    "Your `inference` object is an array of two values, the predicted probability value for each of your classes (bicycle and motorcycle respectively.) So, for example, a value of `b'[0.91, 0.09]'` indicates the probability of being a bike is 91% and being a motorcycle is 9%."
   ]
  },
  {
   "cell_type": "code",
   "execution_count": 29,
   "metadata": {},
   "outputs": [
    {
     "name": "stdout",
     "output_type": "stream",
     "text": [
      "b'[0.9830994606018066, 0.016900544986128807]'\n"
     ]
    }
   ],
   "source": [
    "print(inference)"
   ]
  },
  {
   "cell_type": "markdown",
   "metadata": {},
   "source": [
    "### Draft Lambdas and Step Function Workflow\n",
    "\n",
    "Your operations team uses Step Functions to orchestrate serverless workflows. One of the nice things about Step Functions is that [workflows can call other workflows](https://docs.aws.amazon.com/step-functions/latest/dg/connect-stepfunctions.html), so the team can easily plug your workflow into the broader production architecture for Scones Unlimited.\n",
    "\n",
    "In this next stage you're going to write and deploy three Lambda functions, and then use the Step Functions visual editor to chain them together! Our functions are going to work with a simple data object:\n",
    "\n",
    "```python\n",
    "{\n",
    "    \"inferences\": [], # Output of predictor.predict\n",
    "    \"s3_key\": \"\", # Source data S3 key\n",
    "    \"s3_bucket\": \"\", # Source data S3 bucket\n",
    "    \"image_data\": \"\"  # base64 encoded string containing the image data\n",
    "}\n",
    "```\n",
    "\n",
    "A good test object that you can use for Lambda tests and Step Function executions, throughout the next section, might look like this:\n",
    "\n",
    "```python\n",
    "{\n",
    "  \"image_data\": \"\",\n",
    "  \"s3_bucket\": MY_BUCKET_NAME, # Fill in with your bucket\n",
    "  \"s3_key\": \"test/bicycle_s_000513.png\"\n",
    "}\n",
    "```\n",
    "\n",
    "Using these fields, your functions can read and write the necessary data to execute your workflow. Let's start with the first function. Your first Lambda function will copy an object from S3, base64 encode it, and then return it to the step function as `image_data` in an event.\n",
    "\n",
    "Go to the Lambda dashboard and create a new Lambda function with a descriptive name like \"serializeImageData\" and select thr 'Python 3.8' runtime. Add the same permissions as the SageMaker role you created earlier. (Reminder: you do this in the Configuration tab under \"Permissions\"). Once you're ready, use the starter code below to craft your Lambda handler:\n",
    "\n",
    "```python\n",
    "import json\n",
    "import boto3\n",
    "import base64\n",
    "\n",
    "s3 = boto3.client('s3')\n",
    "\n",
    "def lambda_handler(event, context):\n",
    "    \"\"\"A function to serialize target data from S3\"\"\"\n",
    "    \n",
    "    # Get the s3 address from the Step Function event input\n",
    "    key = ## TODO: fill in\n",
    "    bucket = ## TODO: fill in\n",
    "    \n",
    "    # Download the data from s3 to /tmp/image.png\n",
    "    ## TODO: fill in\n",
    "    \n",
    "    # We read the data from a file\n",
    "    with open(\"/tmp/image.png\", \"rb\") as f:\n",
    "        image_data = base64.b64encode(f.read())\n",
    "\n",
    "    # Pass the data back to the Step Function\n",
    "    print(\"Event:\", event.keys())\n",
    "    return {\n",
    "        'statusCode': 200,\n",
    "        'body': {\n",
    "            \"image_data\": image_data,\n",
    "            \"s3_bucket\": bucket,\n",
    "            \"s3_key\": key,\n",
    "            \"inferences\": []\n",
    "        }\n",
    "    }\n",
    "```\n",
    "\n",
    "The next function is responsible for the classification part - we're going to take the image output from the previous function, decode it, and then pass inferences back to the the Step Function.\n",
    "\n",
    "Because this Lambda will have runtime dependencies (i.e. the SageMaker SDK) you'll need to package them in your function. *Key reading:* https://docs.aws.amazon.com/lambda/latest/dg/python-package-create.html#python-package-create-with-dependency\n",
    "\n",
    "Create a new Lambda function with the same rights and a descriptive name, then fill in the starter code below for your classifier Lambda.\n",
    "\n",
    "```python\n",
    "import json\n",
    "import sagemaker\n",
    "import base64\n",
    "from sagemaker.serializers import IdentitySerializer\n",
    "\n",
    "# Fill this in with the name of your deployed model\n",
    "ENDPOINT = ## TODO: fill in\n",
    "\n",
    "def lambda_handler(event, context):\n",
    "\n",
    "    # Decode the image data\n",
    "    image = base64.b64decode(## TODO: fill in)\n",
    "\n",
    "    # Instantiate a Predictor\n",
    "    predictor = ## TODO: fill in\n",
    "\n",
    "    # For this model the IdentitySerializer needs to be \"image/png\"\n",
    "    predictor.serializer = IdentitySerializer(\"image/png\")\n",
    "    \n",
    "    # Make a prediction:\n",
    "    inferences = ## TODO: fill in\n",
    "    \n",
    "    # We return the data back to the Step Function    \n",
    "    event[\"inferences\"] = inferences.decode('utf-8')\n",
    "    return {\n",
    "        'statusCode': 200,\n",
    "        'body': json.dumps(event)\n",
    "    }\n",
    "```\n",
    "\n",
    "Finally, we need to filter low-confidence inferences. Define a threshold between 1.00 and 0.000 for your model: what is reasonble for you? If the model predicts at `.70` for it's highest confidence label, do we want to pass that inference along to downstream systems? Make one last Lambda function and tee up the same permissions:\n",
    "\n",
    "```python\n",
    "import json\n",
    "\n",
    "\n",
    "THRESHOLD = .93\n",
    "\n",
    "\n",
    "def lambda_handler(event, context):\n",
    "    \n",
    "    # Grab the inferences from the event\n",
    "    inferences = ## TODO: fill in\n",
    "    \n",
    "    # Check if any values in our inferences are above THRESHOLD\n",
    "    meets_threshold = ## TODO: fill in\n",
    "    \n",
    "    # If our threshold is met, pass our data back out of the\n",
    "    # Step Function, else, end the Step Function with an error\n",
    "    if meets_threshold:\n",
    "        pass\n",
    "    else:\n",
    "        raise(\"THRESHOLD_CONFIDENCE_NOT_MET\")\n",
    "\n",
    "    return {\n",
    "        'statusCode': 200,\n",
    "        'body': json.dumps(event)\n",
    "    }\n",
    "```\n",
    "Once you have tested the lambda functions, save the code for each lambda function in a python script called 'lambda.py'.\n",
    "\n",
    "With your lambdas in place, you can use the Step Functions visual editor to construct a workflow that chains them together. In the Step Functions console you'll have the option to author a Standard step function *Visually*.\n",
    "\n",
    "When the visual editor opens, you'll have many options to add transitions in your workflow. We're going to keep it simple and have just one: to invoke Lambda functions. Add three of them chained together. For each one, you'll be able to select the Lambda functions you just created in the proper order, filter inputs and outputs, and give them descriptive names.\n",
    "\n",
    "Make sure that you:\n",
    "\n",
    "1. Are properly filtering the inputs and outputs of your invokations (e.g. `$.body`)\n",
    "2. Take care to remove the error handling from the last function - it's supposed to \"fail loudly\" for your operations colleagues!\n",
    "\n",
    "Take a screenshot of your working step function in action and export the step function as JSON for your submission package."
   ]
  },
  {
   "cell_type": "markdown",
   "metadata": {},
   "source": [
    "\n",
    "Great! Now you can use the files in `./test` as test files for our workflow. Depending on our threshold, our workflow should reliably pass predictions about images from `./test` on to downstream systems, while erroring out for inferences below our confidence threshold!\n",
    "\n",
    "### Testing and Evaluation\n",
    "\n",
    "Do several step function invokations using data from the `./test` folder. This process should give you confidence that the workflow both *succeeds* AND *fails* as expected. In addition, SageMaker Model Monitor will generate recordings of your data and inferences which we can visualize.\n",
    "\n",
    "Here's a function that can help you generate test inputs for your invokations:"
   ]
  },
  {
   "cell_type": "code",
   "execution_count": 30,
   "metadata": {},
   "outputs": [
    {
     "data": {
      "text/plain": [
       "'{\"image_data\": \"\", \"s3_bucket\": \"sagemaker-us-east-1-718828618277\", \"s3_key\": \"test/motorcycle_s_001679.png\"}'"
      ]
     },
     "execution_count": 30,
     "metadata": {},
     "output_type": "execute_result"
    }
   ],
   "source": [
    "import random\n",
    "import boto3\n",
    "import json\n",
    "\n",
    "\n",
    "def generate_test_case():\n",
    "    # Setup s3 in boto3\n",
    "    s3 = boto3.resource('s3')\n",
    "    \n",
    "    # Randomly pick from sfn or test folders in our bucket\n",
    "    objects = s3.Bucket(bucket).objects.filter(Prefix=\"test\")\n",
    "    \n",
    "    # Grab any random object key from that folder!\n",
    "    obj = random.choice([x.key for x in objects])\n",
    "    \n",
    "    return json.dumps({\n",
    "        \"image_data\": \"\",\n",
    "        \"s3_bucket\": bucket,\n",
    "        \"s3_key\": obj\n",
    "    })\n",
    "generate_test_case()"
   ]
  },
  {
   "cell_type": "markdown",
   "metadata": {},
   "source": [
    "### continuous stream"
   ]
  },
  {
   "cell_type": "code",
   "execution_count": 35,
   "metadata": {},
   "outputs": [],
   "source": [
    "import random\n",
    "import boto3\n",
    "import json\n",
    "\n",
    "#continuous stream\n",
    "def generate_test_case():\n",
    "    # Setup s3 in boto3\n",
    "    s3 = boto3.resource('s3')\n",
    "    \n",
    "    # pick from sfn or test folders in our bucket\n",
    "    objects = s3.Bucket(bucket).objects.filter(Prefix=\"test\")\n",
    "    \n",
    "    # Grab object keys from that folder!\n",
    "    for obj in objects:\n",
    "        yield json.dumps({\n",
    "        \"image_data\": \"\",\n",
    "        \"s3_bucket\": bucket,\n",
    "        \"s3_key\": obj.key\n",
    "    })\n",
    "requ=generate_test_case()"
   ]
  },
  {
   "cell_type": "code",
   "execution_count": 45,
   "metadata": {
    "tags": []
   },
   "outputs": [
    {
     "data": {
      "text/plain": [
       "'{\"image_data\": \"\", \"s3_bucket\": \"sagemaker-us-east-1-718828618277\", \"s3_key\": \"test/bike_s_000163.png\"}'"
      ]
     },
     "execution_count": 45,
     "metadata": {},
     "output_type": "execute_result"
    }
   ],
   "source": [
    "next(iter(requ))"
   ]
  },
  {
   "cell_type": "code",
   "execution_count": 55,
   "metadata": {
    "tags": []
   },
   "outputs": [
    {
     "name": "stdout",
     "output_type": "stream",
     "text": [
      "{\"image_data\": \"\", \"s3_bucket\": \"sagemaker-us-east-1-718828618277\", \"s3_key\": \"test/cycle_s_002613.png\"}\n",
      "{\"image_data\": \"\", \"s3_bucket\": \"sagemaker-us-east-1-718828618277\", \"s3_key\": \"test/cycle_s_002661.png\"}\n",
      "{\"image_data\": \"\", \"s3_bucket\": \"sagemaker-us-east-1-718828618277\", \"s3_key\": \"test/cycle_s_002964.png\"}\n",
      "{\"image_data\": \"\", \"s3_bucket\": \"sagemaker-us-east-1-718828618277\", \"s3_key\": \"test/dirt_bike_s_000001.png\"}\n",
      "{\"image_data\": \"\", \"s3_bucket\": \"sagemaker-us-east-1-718828618277\", \"s3_key\": \"test/minibike_s_000052.png\"}\n",
      "{\"image_data\": \"\", \"s3_bucket\": \"sagemaker-us-east-1-718828618277\", \"s3_key\": \"test/minibike_s_000055.png\"}\n",
      "{\"image_data\": \"\", \"s3_bucket\": \"sagemaker-us-east-1-718828618277\", \"s3_key\": \"test/minibike_s_000075.png\"}\n",
      "{\"image_data\": \"\", \"s3_bucket\": \"sagemaker-us-east-1-718828618277\", \"s3_key\": \"test/minibike_s_000254.png\"}\n",
      "{\"image_data\": \"\", \"s3_bucket\": \"sagemaker-us-east-1-718828618277\", \"s3_key\": \"test/minibike_s_000288.png\"}\n",
      "{\"image_data\": \"\", \"s3_bucket\": \"sagemaker-us-east-1-718828618277\", \"s3_key\": \"test/minibike_s_000290.png\"}\n",
      "{\"image_data\": \"\", \"s3_bucket\": \"sagemaker-us-east-1-718828618277\", \"s3_key\": \"test/minibike_s_000309.png\"}\n",
      "{\"image_data\": \"\", \"s3_bucket\": \"sagemaker-us-east-1-718828618277\", \"s3_key\": \"test/minibike_s_000398.png\"}\n",
      "{\"image_data\": \"\", \"s3_bucket\": \"sagemaker-us-east-1-718828618277\", \"s3_key\": \"test/minibike_s_000497.png\"}\n",
      "{\"image_data\": \"\", \"s3_bucket\": \"sagemaker-us-east-1-718828618277\", \"s3_key\": \"test/minibike_s_000505.png\"}\n",
      "{\"image_data\": \"\", \"s3_bucket\": \"sagemaker-us-east-1-718828618277\", \"s3_key\": \"test/minibike_s_000573.png\"}\n"
     ]
    }
   ],
   "source": [
    "import random\n",
    "import string\n",
    "client = boto3.client('stepfunctions')\n",
    "s = string.ascii_lowercase + string.digits\n",
    "for i in range(15):\n",
    "    inputs=next(iter(requ))\n",
    "    print(inputs)\n",
    "    client.start_execution(\n",
    "    stateMachineArn='arn:aws:states:us-east-1:718828618277:stateMachine:bicycleMotorcycleClassifier',\n",
    "    name=f\"classifyingJop{''.join(random.sample(s, 10))}\",\n",
    "    input=inputs,\n",
    ")"
   ]
  },
  {
   "cell_type": "markdown",
   "metadata": {},
   "source": [
    "In the Step Function dashboard for your new function, you can create new executions and copy in the generated test cases. Do several executions so that you can generate data you can evaluate and visualize.\n",
    "\n",
    "Once you've done several executions, let's visualize the record of our inferences. Pull in the JSONLines data from your inferences like so:"
   ]
  },
  {
   "cell_type": "code",
   "execution_count": 65,
   "metadata": {},
   "outputs": [
    {
     "data": {
      "text/plain": [
       "['captured_data/17-45-227-bf979862-b861-4941-8160-a29280be79be.jsonl',\n",
       " 'captured_data/28-15-086-a707a96c-5bce-482f-ab68-cd3723659265.jsonl',\n",
       " 'captured_data/34-05-514-1dd8615e-5c8b-41e2-9c74-89925ea4379e.jsonl',\n",
       " 'captured_data/36-42-125-71b1d738-aaec-494b-8d05-3432453bd361.jsonl']"
      ]
     },
     "execution_count": 65,
     "metadata": {},
     "output_type": "execute_result"
    }
   ],
   "source": [
    "from sagemaker.s3 import S3Downloader\n",
    "\n",
    "# In S3 your data will be saved to a datetime-aware path\n",
    "# Find a path related to a datetime you're interested in\n",
    "data_path =\"s3://sagemaker-us-east-1-718828618277/data_capture/image-classification-2023-07-23-11-13-42-624/AllTraffic/2023/07/23/11/\" ## TODO: fill in the path to your captured data\n",
    "\n",
    "S3Downloader.download(data_path, \"captured_data\")\n",
    "\n",
    "# Feel free to repeat this multiple times and pull in more data"
   ]
  },
  {
   "cell_type": "markdown",
   "metadata": {},
   "source": [
    "The data are in JSONLines format, where multiple valid JSON objects are stacked on top of eachother in a single `jsonl` file. We'll import an open-source library, `jsonlines` that was purpose built for parsing this format."
   ]
  },
  {
   "cell_type": "code",
   "execution_count": 66,
   "metadata": {},
   "outputs": [
    {
     "name": "stdout",
     "output_type": "stream",
     "text": [
      "Requirement already satisfied: jsonlines in /opt/conda/lib/python3.7/site-packages (3.1.0)\n",
      "Requirement already satisfied: attrs>=19.2.0 in /opt/conda/lib/python3.7/site-packages (from jsonlines) (23.1.0)\n",
      "Requirement already satisfied: typing-extensions in /opt/conda/lib/python3.7/site-packages (from jsonlines) (4.6.3)\n",
      "Requirement already satisfied: importlib-metadata in /opt/conda/lib/python3.7/site-packages (from attrs>=19.2.0->jsonlines) (6.6.0)\n",
      "Requirement already satisfied: zipp>=0.5 in /opt/conda/lib/python3.7/site-packages (from importlib-metadata->attrs>=19.2.0->jsonlines) (2.2.0)\n",
      "\u001b[33mWARNING: Running pip as the 'root' user can result in broken permissions and conflicting behaviour with the system package manager. It is recommended to use a virtual environment instead: https://pip.pypa.io/warnings/venv\u001b[0m\u001b[33m\n",
      "\u001b[0m\n",
      "\u001b[1m[\u001b[0m\u001b[34;49mnotice\u001b[0m\u001b[1;39;49m]\u001b[0m\u001b[39;49m A new release of pip is available: \u001b[0m\u001b[31;49m23.1.2\u001b[0m\u001b[39;49m -> \u001b[0m\u001b[32;49m23.2.1\u001b[0m\n",
      "\u001b[1m[\u001b[0m\u001b[34;49mnotice\u001b[0m\u001b[1;39;49m]\u001b[0m\u001b[39;49m To update, run: \u001b[0m\u001b[32;49mpip install --upgrade pip\u001b[0m\n"
     ]
    }
   ],
   "source": [
    "!pip install jsonlines\n",
    "import jsonlines"
   ]
  },
  {
   "cell_type": "code",
   "execution_count": 74,
   "metadata": {
    "tags": []
   },
   "outputs": [
    {
     "data": {
      "text/plain": [
       "['17-45-227-bf979862-b861-4941-8160-a29280be79be.jsonl',\n",
       " '28-15-086-a707a96c-5bce-482f-ab68-cd3723659265.jsonl',\n",
       " '.ipynb_checkpoints',\n",
       " '36-42-125-71b1d738-aaec-494b-8d05-3432453bd361.jsonl',\n",
       " '34-05-514-1dd8615e-5c8b-41e2-9c74-89925ea4379e.jsonl']"
      ]
     },
     "execution_count": 74,
     "metadata": {},
     "output_type": "execute_result"
    }
   ],
   "source": [
    "file_handles = os.listdir(\"./captured_data\")\n",
    "file_handles"
   ]
  },
  {
   "cell_type": "markdown",
   "metadata": {},
   "source": [
    "Now we can extract the data from each of the source files:"
   ]
  },
  {
   "cell_type": "code",
   "execution_count": 80,
   "metadata": {},
   "outputs": [
    {
     "data": {
      "text/plain": [
       "211"
      ]
     },
     "execution_count": 80,
     "metadata": {},
     "output_type": "execute_result"
    }
   ],
   "source": [
    "import os\n",
    "\n",
    "# List the file names we downloaded\n",
    "file_handles = os.listdir(\"./captured_data\")\n",
    "file_handles = [file for file in file_handles if not file.startswith('.')]\n",
    "# Dump all the data into an array\n",
    "json_data = []\n",
    "for jsonl in file_handles:\n",
    "    with jsonlines.open(f\"./captured_data/{jsonl}\") as f:\n",
    "        for obj in f:\n",
    "            json_data.append(obj)\n",
    "len(json_data)"
   ]
  },
  {
   "cell_type": "markdown",
   "metadata": {},
   "source": [
    "The data should now be a list of dictionaries, with significant nesting. We'll give you an example of some code that grabs data out of the objects and visualizes it:"
   ]
  },
  {
   "cell_type": "code",
   "execution_count": 81,
   "metadata": {},
   "outputs": [
    {
     "data": {
      "text/plain": [
       "([0.9830994606018066, 0.016900544986128807], '2023-07-23T11:17:45Z')"
      ]
     },
     "execution_count": 81,
     "metadata": {},
     "output_type": "execute_result"
    }
   ],
   "source": [
    "# Define how we'll get our data\n",
    "def simple_getter(obj):\n",
    "    inferences = obj[\"captureData\"][\"endpointOutput\"][\"data\"]\n",
    "    timestamp = obj[\"eventMetadata\"][\"inferenceTime\"]\n",
    "    return json.loads(inferences), timestamp\n",
    "\n",
    "simple_getter(json_data[0])"
   ]
  },
  {
   "cell_type": "markdown",
   "metadata": {},
   "source": [
    "Finally, here's an example of a visualization you can build with this data. In this last part, you will take some time and build your own - the captured data has the input images, the resulting inferences, and the timestamps."
   ]
  },
  {
   "cell_type": "code",
   "execution_count": 82,
   "metadata": {},
   "outputs": [
    {
     "data": {
      "image/png": "[encoded data removed]",
      "text/plain": [
       "<Figure size 640x480 with 1 Axes>"
      ]
     },
     "metadata": {},
     "output_type": "display_data"
    }
   ],
   "source": [
    "# Populate the data for the x and y axis\n",
    "x = []\n",
    "y = []\n",
    "for obj in json_data:\n",
    "    inference, timestamp = simple_getter(obj)\n",
    "    \n",
    "    y.append(max(inference))\n",
    "    x.append(timestamp)\n",
    "\n",
    "# Todo: here is an visualization example, take some time to build another visual that helps monitor the result\n",
    "# Plot the data\n",
    "plt.scatter(x, y, c=['r' if k<.94 else 'b' for k in y ])\n",
    "plt.axhline(y=0.94, color='g', linestyle='--')\n",
    "plt.ylim(bottom=.88)\n",
    "\n",
    "# Add labels\n",
    "plt.ylabel(\"Confidence\")\n",
    "plt.suptitle(\"Observed Recent Inferences\", size=14)\n",
    "plt.title(\"Pictured with confidence threshold for production use\", size=10)\n",
    "\n",
    "# Give it some pizzaz!\n",
    "plt.style.use(\"Solarize_Light2\")\n",
    "plt.gcf().autofmt_xdate()"
   ]
  },
  {
   "cell_type": "markdown",
   "metadata": {},
   "source": [
    "### Todo: build your own visualization\n"
   ]
  },
  {
   "cell_type": "code",
   "execution_count": 129,
   "metadata": {
    "tags": []
   },
   "outputs": [
    {
     "data": {
      "text/plain": [
       "<BarContainer object of 4 artists>"
      ]
     },
     "execution_count": 129,
     "metadata": {},
     "output_type": "execute_result"
    },
    {
     "data": {
      "image/png": "[encoded data removed]",
      "text/plain": [
       "<Figure size 1400x800 with 2 Axes>"
      ]
     },
     "metadata": {},
     "output_type": "display_data"
    }
   ],
   "source": [
    "import logging\n",
    "logger = logging.getLogger()\n",
    "logger.setLevel(logging.CRITICAL)\n",
    "# Populate the data for the x and y axis\n",
    "THRESHOLD=.92\n",
    "x_bikes = []\n",
    "x_motor_cycles = []\n",
    "y_bikes = []\n",
    "y_motor_cycles = []\n",
    "above_th_bike=0\n",
    "above_th_motor=0\n",
    "for obj in json_data:\n",
    "    inference, timestamp = simple_getter(obj)\n",
    "    maximum=max(inference)\n",
    "    label=inference.index(maximum)\n",
    "    if label==0:\n",
    "        y_bikes.append(maximum)\n",
    "        x_bikes.append(timestamp)\n",
    "        if maximum> THRESHOLD:\n",
    "            above_th_bike+=1\n",
    "    else:\n",
    "        y_motor_cycles.append(maximum)\n",
    "        x_motor_cycles.append(timestamp)\n",
    "        if maximum> THRESHOLD:\n",
    "            above_th_motor+=1\n",
    "\n",
    "# Plot the data\n",
    "fig, axs = plt.subplots(1,2)\n",
    "fig.set_size_inches((14,8))\n",
    "fig.autofmt_xdate()\n",
    "axs[0].scatter(x_bikes, y_bikes, c='y',label=\"bike\")\n",
    "axs[0].scatter(x_motor_cycles, y_motor_cycles, c='b', label=\"motorcycle\")\n",
    "\n",
    "axs[0].legend()\n",
    "axs[0].axhline(y=THRESHOLD, color='g', linestyle='--')\n",
    "axs[0].set_ylim(bottom=min([min(y_bikes)-0.02, min(y_motor_cycles)-0.02]))\n",
    "\n",
    "\n",
    "# Add labels\n",
    "axs[0].set_ylabel(\"Confidence\")\n",
    "\n",
    "axs[0].set_title(\"Pictured with confidence threshold for production use\", size=10)\n",
    "\n",
    "# plot bar gragh\n",
    "x = ['Above Threlshod bikes', 'Above Threlshod motorcycles', 'Under Threlshod bikes', 'Under Threlshod motorcycles']\n",
    "y = [above_th_bike, above_th_motor, len(y_bikes)-above_th_bike, len(y_motor_cycles)-above_th_motor]\n",
    "axs[1].set_ylabel(\"Number of instance\")\n",
    "axs[1].bar(x, y)\n",
    "\n"
   ]
  },
  {
   "cell_type": "markdown",
   "metadata": {},
   "source": [
    "We can see that our model is more Confident about bikes"
   ]
  },
  {
   "cell_type": "markdown",
   "metadata": {},
   "source": [
    "### Congratulations!\n",
    "\n",
    "You've reached the end of the project. In this project you created an event-drivent ML workflow that can be incorporated into the Scones Unlimited production architecture. You used the SageMaker Estimator API to deploy your SageMaker Model and Endpoint, and you used AWS Lambda and Step Functions to orchestrate your ML workflow. Using SageMaker Model Monitor, you instrumented and observed your Endpoint, and at the end of the project you built a visualization to help stakeholders understand the performance of the Endpoint over time. If you're up for it, you can even go further with these stretch goals:\n",
    "\n",
    "* Extend your workflow to incorporate more classes: the CIFAR dataset includes other vehicles that Scones Unlimited can identify with this model.\n",
    "* Modify your event driven workflow: can you rewrite your Lambda functions so that the workflow can process multiple image inputs in parallel? Can the Step Function \"fan out\" to accomodate this new workflow?\n",
    "* Consider the test data generator we provided for you. Can we use it to create a \"dummy data\" generator, to simulate a continuous stream of input data? Or a big paralell load of data?\n",
    "* What if we want to get notified every time our step function errors out? Can we use the Step Functions visual editor in conjunction with a service like SNS to accomplish this? Try it out!\n",
    "\n",
    "\n"
   ]
  },
  {
   "cell_type": "markdown",
   "metadata": {},
   "source": [
    "### some comments on the suggestions\n",
    "* for point 3 is already there \n",
    "\n",
    "* for point 4 is almost there \n",
    "\n",
    "* for point 2 we will extend the json object to have a list of items instead of a single item. After that we have some options.\n",
    "    1. we modify all the lambdas to accept lists (more complex but lowwer cost)\n",
    "    2. we can make lambda function loop over all the objects invoke the state machine we have build"
   ]
  },
  {
   "cell_type": "code",
   "execution_count": null,
   "metadata": {},
   "outputs": [],
   "source": []
  }
 ],
 "metadata": {
  "availableInstances": [
   {
    "_defaultOrder": 0,
    "_isFastLaunch": true,
    "category": "General purpose",
    "gpuNum": 0,
    "hideHardwareSpecs": false,
    "memoryGiB": 4,
    "name": "ml.t3.medium",
    "vcpuNum": 2
   },
   {
    "_defaultOrder": 1,
    "_isFastLaunch": false,
    "category": "General purpose",
    "gpuNum": 0,
    "hideHardwareSpecs": false,
    "memoryGiB": 8,
    "name": "ml.t3.large",
    "vcpuNum": 2
   },
   {
    "_defaultOrder": 2,
    "_isFastLaunch": false,
    "category": "General purpose",
    "gpuNum": 0,
    "hideHardwareSpecs": false,
    "memoryGiB": 16,
    "name": "ml.t3.xlarge",
    "vcpuNum": 4
   },
   {
    "_defaultOrder": 3,
    "_isFastLaunch": false,
    "category": "General purpose",
    "gpuNum": 0,
    "hideHardwareSpecs": false,
    "memoryGiB": 32,
    "name": "ml.t3.2xlarge",
    "vcpuNum": 8
   },
   {
    "_defaultOrder": 4,
    "_isFastLaunch": true,
    "category": "General purpose",
    "gpuNum": 0,
    "hideHardwareSpecs": false,
    "memoryGiB": 8,
    "name": "ml.m5.large",
    "vcpuNum": 2
   },
   {
    "_defaultOrder": 5,
    "_isFastLaunch": false,
    "category": "General purpose",
    "gpuNum": 0,
    "hideHardwareSpecs": false,
    "memoryGiB": 16,
    "name": "ml.m5.xlarge",
    "vcpuNum": 4
   },
   {
    "_defaultOrder": 6,
    "_isFastLaunch": false,
    "category": "General purpose",
    "gpuNum": 0,
    "hideHardwareSpecs": false,
    "memoryGiB": 32,
    "name": "ml.m5.2xlarge",
    "vcpuNum": 8
   },
   {
    "_defaultOrder": 7,
    "_isFastLaunch": false,
    "category": "General purpose",
    "gpuNum": 0,
    "hideHardwareSpecs": false,
    "memoryGiB": 64,
    "name": "ml.m5.4xlarge",
    "vcpuNum": 16
   },
   {
    "_defaultOrder": 8,
    "_isFastLaunch": false,
    "category": "General purpose",
    "gpuNum": 0,
    "hideHardwareSpecs": false,
    "memoryGiB": 128,
    "name": "ml.m5.8xlarge",
    "vcpuNum": 32
   },
   {
    "_defaultOrder": 9,
    "_isFastLaunch": false,
    "category": "General purpose",
    "gpuNum": 0,
    "hideHardwareSpecs": false,
    "memoryGiB": 192,
    "name": "ml.m5.12xlarge",
    "vcpuNum": 48
   },
   {
    "_defaultOrder": 10,
    "_isFastLaunch": false,
    "category": "General purpose",
    "gpuNum": 0,
    "hideHardwareSpecs": false,
    "memoryGiB": 256,
    "name": "ml.m5.16xlarge",
    "vcpuNum": 64
   },
   {
    "_defaultOrder": 11,
    "_isFastLaunch": false,
    "category": "General purpose",
    "gpuNum": 0,
    "hideHardwareSpecs": false,
    "memoryGiB": 384,
    "name": "ml.m5.24xlarge",
    "vcpuNum": 96
   },
   {
    "_defaultOrder": 12,
    "_isFastLaunch": false,
    "category": "General purpose",
    "gpuNum": 0,
    "hideHardwareSpecs": false,
    "memoryGiB": 8,
    "name": "ml.m5d.large",
    "vcpuNum": 2
   },
   {
    "_defaultOrder": 13,
    "_isFastLaunch": false,
    "category": "General purpose",
    "gpuNum": 0,
    "hideHardwareSpecs": false,
    "memoryGiB": 16,
    "name": "ml.m5d.xlarge",
    "vcpuNum": 4
   },
   {
    "_defaultOrder": 14,
    "_isFastLaunch": false,
    "category": "General purpose",
    "gpuNum": 0,
    "hideHardwareSpecs": false,
    "memoryGiB": 32,
    "name": "ml.m5d.2xlarge",
    "vcpuNum": 8
   },
   {
    "_defaultOrder": 15,
    "_isFastLaunch": false,
    "category": "General purpose",
    "gpuNum": 0,
    "hideHardwareSpecs": false,
    "memoryGiB": 64,
    "name": "ml.m5d.4xlarge",
    "vcpuNum": 16
   },
   {
    "_defaultOrder": 16,
    "_isFastLaunch": false,
    "category": "General purpose",
    "gpuNum": 0,
    "hideHardwareSpecs": false,
    "memoryGiB": 128,
    "name": "ml.m5d.8xlarge",
    "vcpuNum": 32
   },
   {
    "_defaultOrder": 17,
    "_isFastLaunch": false,
    "category": "General purpose",
    "gpuNum": 0,
    "hideHardwareSpecs": false,
    "memoryGiB": 192,
    "name": "ml.m5d.12xlarge",
    "vcpuNum": 48
   },
   {
    "_defaultOrder": 18,
    "_isFastLaunch": false,
    "category": "General purpose",
    "gpuNum": 0,
    "hideHardwareSpecs": false,
    "memoryGiB": 256,
    "name": "ml.m5d.16xlarge",
    "vcpuNum": 64
   },
   {
    "_defaultOrder": 19,
    "_isFastLaunch": false,
    "category": "General purpose",
    "gpuNum": 0,
    "hideHardwareSpecs": false,
    "memoryGiB": 384,
    "name": "ml.m5d.24xlarge",
    "vcpuNum": 96
   },
   {
    "_defaultOrder": 20,
    "_isFastLaunch": false,
    "category": "General purpose",
    "gpuNum": 0,
    "hideHardwareSpecs": true,
    "memoryGiB": 0,
    "name": "ml.geospatial.interactive",
    "supportedImageNames": [
     "sagemaker-geospatial-v1-0"
    ],
    "vcpuNum": 0
   },
   {
    "_defaultOrder": 21,
    "_isFastLaunch": true,
    "category": "Compute optimized",
    "gpuNum": 0,
    "hideHardwareSpecs": false,
    "memoryGiB": 4,
    "name": "ml.c5.large",
    "vcpuNum": 2
   },
   {
    "_defaultOrder": 22,
    "_isFastLaunch": false,
    "category": "Compute optimized",
    "gpuNum": 0,
    "hideHardwareSpecs": false,
    "memoryGiB": 8,
    "name": "ml.c5.xlarge",
    "vcpuNum": 4
   },
   {
    "_defaultOrder": 23,
    "_isFastLaunch": false,
    "category": "Compute optimized",
    "gpuNum": 0,
    "hideHardwareSpecs": false,
    "memoryGiB": 16,
    "name": "ml.c5.2xlarge",
    "vcpuNum": 8
   },
   {
    "_defaultOrder": 24,
    "_isFastLaunch": false,
    "category": "Compute optimized",
    "gpuNum": 0,
    "hideHardwareSpecs": false,
    "memoryGiB": 32,
    "name": "ml.c5.4xlarge",
    "vcpuNum": 16
   },
   {
    "_defaultOrder": 25,
    "_isFastLaunch": false,
    "category": "Compute optimized",
    "gpuNum": 0,
    "hideHardwareSpecs": false,
    "memoryGiB": 72,
    "name": "ml.c5.9xlarge",
    "vcpuNum": 36
   },
   {
    "_defaultOrder": 26,
    "_isFastLaunch": false,
    "category": "Compute optimized",
    "gpuNum": 0,
    "hideHardwareSpecs": false,
    "memoryGiB": 96,
    "name": "ml.c5.12xlarge",
    "vcpuNum": 48
   },
   {
    "_defaultOrder": 27,
    "_isFastLaunch": false,
    "category": "Compute optimized",
    "gpuNum": 0,
    "hideHardwareSpecs": false,
    "memoryGiB": 144,
    "name": "ml.c5.18xlarge",
    "vcpuNum": 72
   },
   {
    "_defaultOrder": 28,
    "_isFastLaunch": false,
    "category": "Compute optimized",
    "gpuNum": 0,
    "hideHardwareSpecs": false,
    "memoryGiB": 192,
    "name": "ml.c5.24xlarge",
    "vcpuNum": 96
   },
   {
    "_defaultOrder": 29,
    "_isFastLaunch": true,
    "category": "Accelerated computing",
    "gpuNum": 1,
    "hideHardwareSpecs": false,
    "memoryGiB": 16,
    "name": "ml.g4dn.xlarge",
    "vcpuNum": 4
   },
   {
    "_defaultOrder": 30,
    "_isFastLaunch": false,
    "category": "Accelerated computing",
    "gpuNum": 1,
    "hideHardwareSpecs": false,
    "memoryGiB": 32,
    "name": "ml.g4dn.2xlarge",
    "vcpuNum": 8
   },
   {
    "_defaultOrder": 31,
    "_isFastLaunch": false,
    "category": "Accelerated computing",
    "gpuNum": 1,
    "hideHardwareSpecs": false,
    "memoryGiB": 64,
    "name": "ml.g4dn.4xlarge",
    "vcpuNum": 16
   },
   {
    "_defaultOrder": 32,
    "_isFastLaunch": false,
    "category": "Accelerated computing",
    "gpuNum": 1,
    "hideHardwareSpecs": false,
    "memoryGiB": 128,
    "name": "ml.g4dn.8xlarge",
    "vcpuNum": 32
   },
   {
    "_defaultOrder": 33,
    "_isFastLaunch": false,
    "category": "Accelerated computing",
    "gpuNum": 4,
    "hideHardwareSpecs": false,
    "memoryGiB": 192,
    "name": "ml.g4dn.12xlarge",
    "vcpuNum": 48
   },
   {
    "_defaultOrder": 34,
    "_isFastLaunch": false,
    "category": "Accelerated computing",
    "gpuNum": 1,
    "hideHardwareSpecs": false,
    "memoryGiB": 256,
    "name": "ml.g4dn.16xlarge",
    "vcpuNum": 64
   },
   {
    "_defaultOrder": 35,
    "_isFastLaunch": false,
    "category": "Accelerated computing",
    "gpuNum": 1,
    "hideHardwareSpecs": false,
    "memoryGiB": 61,
    "name": "ml.p3.2xlarge",
    "vcpuNum": 8
   },
   {
    "_defaultOrder": 36,
    "_isFastLaunch": false,
    "category": "Accelerated computing",
    "gpuNum": 4,
    "hideHardwareSpecs": false,
    "memoryGiB": 244,
    "name": "ml.p3.8xlarge",
    "vcpuNum": 32
   },
   {
    "_defaultOrder": 37,
    "_isFastLaunch": false,
    "category": "Accelerated computing",
    "gpuNum": 8,
    "hideHardwareSpecs": false,
    "memoryGiB": 488,
    "name": "ml.p3.16xlarge",
    "vcpuNum": 64
   },
   {
    "_defaultOrder": 38,
    "_isFastLaunch": false,
    "category": "Accelerated computing",
    "gpuNum": 8,
    "hideHardwareSpecs": false,
    "memoryGiB": 768,
    "name": "ml.p3dn.24xlarge",
    "vcpuNum": 96
   },
   {
    "_defaultOrder": 39,
    "_isFastLaunch": false,
    "category": "Memory Optimized",
    "gpuNum": 0,
    "hideHardwareSpecs": false,
    "memoryGiB": 16,
    "name": "ml.r5.large",
    "vcpuNum": 2
   },
   {
    "_defaultOrder": 40,
    "_isFastLaunch": false,
    "category": "Memory Optimized",
    "gpuNum": 0,
    "hideHardwareSpecs": false,
    "memoryGiB": 32,
    "name": "ml.r5.xlarge",
    "vcpuNum": 4
   },
   {
    "_defaultOrder": 41,
    "_isFastLaunch": false,
    "category": "Memory Optimized",
    "gpuNum": 0,
    "hideHardwareSpecs": false,
    "memoryGiB": 64,
    "name": "ml.r5.2xlarge",
    "vcpuNum": 8
   },
   {
    "_defaultOrder": 42,
    "_isFastLaunch": false,
    "category": "Memory Optimized",
    "gpuNum": 0,
    "hideHardwareSpecs": false,
    "memoryGiB": 128,
    "name": "ml.r5.4xlarge",
    "vcpuNum": 16
   },
   {
    "_defaultOrder": 43,
    "_isFastLaunch": false,
    "category": "Memory Optimized",
    "gpuNum": 0,
    "hideHardwareSpecs": false,
    "memoryGiB": 256,
    "name": "ml.r5.8xlarge",
    "vcpuNum": 32
   },
   {
    "_defaultOrder": 44,
    "_isFastLaunch": false,
    "category": "Memory Optimized",
    "gpuNum": 0,
    "hideHardwareSpecs": false,
    "memoryGiB": 384,
    "name": "ml.r5.12xlarge",
    "vcpuNum": 48
   },
   {
    "_defaultOrder": 45,
    "_isFastLaunch": false,
    "category": "Memory Optimized",
    "gpuNum": 0,
    "hideHardwareSpecs": false,
    "memoryGiB": 512,
    "name": "ml.r5.16xlarge",
    "vcpuNum": 64
   },
   {
    "_defaultOrder": 46,
    "_isFastLaunch": false,
    "category": "Memory Optimized",
    "gpuNum": 0,
    "hideHardwareSpecs": false,
    "memoryGiB": 768,
    "name": "ml.r5.24xlarge",
    "vcpuNum": 96
   },
   {
    "_defaultOrder": 47,
    "_isFastLaunch": false,
    "category": "Accelerated computing",
    "gpuNum": 1,
    "hideHardwareSpecs": false,
    "memoryGiB": 16,
    "name": "ml.g5.xlarge",
    "vcpuNum": 4
   },
   {
    "_defaultOrder": 48,
    "_isFastLaunch": false,
    "category": "Accelerated computing",
    "gpuNum": 1,
    "hideHardwareSpecs": false,
    "memoryGiB": 32,
    "name": "ml.g5.2xlarge",
    "vcpuNum": 8
   },
   {
    "_defaultOrder": 49,
    "_isFastLaunch": false,
    "category": "Accelerated computing",
    "gpuNum": 1,
    "hideHardwareSpecs": false,
    "memoryGiB": 64,
    "name": "ml.g5.4xlarge",
    "vcpuNum": 16
   },
   {
    "_defaultOrder": 50,
    "_isFastLaunch": false,
    "category": "Accelerated computing",
    "gpuNum": 1,
    "hideHardwareSpecs": false,
    "memoryGiB": 128,
    "name": "ml.g5.8xlarge",
    "vcpuNum": 32
   },
   {
    "_defaultOrder": 51,
    "_isFastLaunch": false,
    "category": "Accelerated computing",
    "gpuNum": 1,
    "hideHardwareSpecs": false,
    "memoryGiB": 256,
    "name": "ml.g5.16xlarge",
    "vcpuNum": 64
   },
   {
    "_defaultOrder": 52,
    "_isFastLaunch": false,
    "category": "Accelerated computing",
    "gpuNum": 4,
    "hideHardwareSpecs": false,
    "memoryGiB": 192,
    "name": "ml.g5.12xlarge",
    "vcpuNum": 48
   },
   {
    "_defaultOrder": 53,
    "_isFastLaunch": false,
    "category": "Accelerated computing",
    "gpuNum": 4,
    "hideHardwareSpecs": false,
    "memoryGiB": 384,
    "name": "ml.g5.24xlarge",
    "vcpuNum": 96
   },
   {
    "_defaultOrder": 54,
    "_isFastLaunch": false,
    "category": "Accelerated computing",
    "gpuNum": 8,
    "hideHardwareSpecs": false,
    "memoryGiB": 768,
    "name": "ml.g5.48xlarge",
    "vcpuNum": 192
   },
   {
    "_defaultOrder": 55,
    "_isFastLaunch": false,
    "category": "Accelerated computing",
    "gpuNum": 8,
    "hideHardwareSpecs": false,
    "memoryGiB": 1152,
    "name": "ml.p4d.24xlarge",
    "vcpuNum": 96
   },
   {
    "_defaultOrder": 56,
    "_isFastLaunch": false,
    "category": "Accelerated computing",
    "gpuNum": 8,
    "hideHardwareSpecs": false,
    "memoryGiB": 1152,
    "name": "ml.p4de.24xlarge",
    "vcpuNum": 96
   }
  ],
  "instance_type": "ml.t3.medium",
  "kernelspec": {
   "display_name": "Python 3 (Data Science)",
   "language": "python",
   "name": "python3__SAGEMAKER_INTERNAL__arn:aws:sagemaker:us-east-1:081325390199:image/datascience-1.0"
  },
  "language_info": {
   "codemirror_mode": {
    "name": "ipython",
    "version": 3
   },
   "file_extension": ".py",
   "mimetype": "text/x-python",
   "name": "python",
   "nbconvert_exporter": "python",
   "pygments_lexer": "ipython3",
   "version": "3.7.10"
  }
 },
 "nbformat": 4,
 "nbformat_minor": 4
}
